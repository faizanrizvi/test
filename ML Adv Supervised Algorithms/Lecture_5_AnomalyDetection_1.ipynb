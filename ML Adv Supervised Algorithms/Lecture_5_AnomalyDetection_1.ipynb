{
  "nbformat": 4,
  "nbformat_minor": 0,
  "metadata": {
    "colab": {
      "provenance": []
    },
    "kernelspec": {
      "name": "python3",
      "display_name": "Python 3"
    },
    "language_info": {
      "name": "python"
    }
  },
  "cells": [
    {
      "cell_type": "markdown",
      "source": [
        "## Content\n",
        "\n",
        "- **Case Study Intro**\n",
        "\n",
        "- **DBSCAN Intro**\n",
        "    - Density and Dense Region\n",
        "    - Min Points and Eps\n",
        "    - Core point\n",
        "    - Border point\n",
        "    - Noise point\n",
        "    - Density Edge\n",
        "    - Density Connected Points\n",
        "\n",
        "- **DBSCAN Algo**\n",
        "\n",
        "- **Hyperparam tuning**\n",
        "\n",
        "- **Adv and Disadv of DBSCAN**\n",
        "\n",
        "- **Implementing DBSCAN**\n",
        "\n",
        "- **Intro to Anomaly detection**\n",
        "\n",
        "    - Ditribution based\n",
        "    - Ellipctic Envelope"
      ],
      "metadata": {
        "id": "ByZG2m2FDy5M"
      }
    },
    {
      "cell_type": "markdown",
      "source": [
        "## Case Study: Customer Grouping with DBSCAN\n",
        "\n",
        "In today's lecture, we'll try to segment customers based on 'Wholesale Customers Data'.\n",
        "\n",
        "**Q. What is meant by customer segmentation?**\n",
        "- Customer segmentation is the process by which you divide your customers up based on common characteristics – such as demographics or behaviours, so you can market to those customers more effectively.\n",
        "\n",
        "- Almost all the companies in today's world, one way or other, make use of customer segmentation for marketing.\n",
        "\n",
        "**Q. But, how would we segment the customers based on some numbers present in the data?**\n",
        "\n",
        "- So far, we have seen K-Means which is a centroid based algorithm.\n",
        "\n",
        "- We saw Agglomerative Clustering which is hierarchical system.\n",
        "\n",
        "- Today we will see an overview (very high level) for 2 more clustering algorithms. The goal for this lecture is not to go into detail about these algorithms but to just get intuitive understanding of how they work, since they are not as popular in the community.\n",
        "\n",
        "- We'll use these algorithms to do the segmentation of the customers on 'Wholesale Customers Data'.\n",
        "\n",
        "- First, we will start with DBSCAN which is more of density based; i.e. the clustering should be done on the basis of how dense a neighborhood around a point."
      ],
      "metadata": {
        "id": "xHy-lhpm1SWw"
      }
    },
    {
      "cell_type": "markdown",
      "source": [
        "Before jumping in, let's first understand and import the data, and try to visualize it on a plot.\n",
        "\n",
        "#### **Dataset - Wholesale Customers Data**\n",
        "\n",
        "The dataset used for this case study contains the following parameters:\n",
        "\n",
        "1. **Fresh:** annual spending (some monetary unit) on fresh products (Continuous);\n",
        "2. **Milk:** annual spending (some monetary unit) on milk products (Continuous);\n",
        "3. **Grocery:** annual spending (some monetary unit) on grocery products (Continuous);\n",
        "4. **Frozen:** annual spending (some m.u.) on frozen products (Continuous)\n",
        "5. **Detergentss_Paper:** annual spending (some m.u.) on detergents and paper products (Continuous)\n",
        "6. **Delicassen:** annual spending (some m.u.) on and delicatessen products (Continuous);\n",
        "7. **Channel:** customers Channel - (Two possible values: Horeca (Hotel/Restaurant/Cafe) or Retail channel) (Nominal)\n",
        "8. **Region:** customers Region (Three possible values: Lisnon, Oporto or Other) (Nominal)"
      ],
      "metadata": {
        "id": "m81uF3zt1isl"
      }
    },
    {
      "cell_type": "code",
      "source": [
        "!gdown 10ZdMFvfhGeXAa8xR0J00kHIHp9y9m9uL"
      ],
      "metadata": {
        "colab": {
          "base_uri": "https://localhost:8080/"
        },
        "id": "Mt9nulS-28QU",
        "outputId": "4e25eaad-749c-44b7-8474-b56f9eee7074"
      },
      "execution_count": 1,
      "outputs": [
        {
          "output_type": "stream",
          "name": "stdout",
          "text": [
            "Downloading...\n",
            "From: https://drive.google.com/uc?id=10ZdMFvfhGeXAa8xR0J00kHIHp9y9m9uL\n",
            "To: /content/wholesaledata.csv\n",
            "\r  0% 0.00/15.0k [00:00<?, ?B/s]\r100% 15.0k/15.0k [00:00<00:00, 26.9MB/s]\n"
          ]
        }
      ]
    },
    {
      "cell_type": "code",
      "source": [
        "from sklearn.cluster import DBSCAN\n",
        "from sklearn.preprocessing import StandardScaler\n",
        "import numpy as np\n",
        "import pandas as pd\n",
        "import matplotlib.pyplot as plt\n",
        "plt.rcParams[\"figure.figsize\"] = (16,12)"
      ],
      "metadata": {
        "id": "z7MgDRhT29k3"
      },
      "execution_count": 2,
      "outputs": []
    },
    {
      "cell_type": "code",
      "source": [
        "df = pd.read_csv('./wholesaledata.csv')\n",
        "df.info()"
      ],
      "metadata": {
        "colab": {
          "base_uri": "https://localhost:8080/"
        },
        "id": "0G7mAiaC3Kq7",
        "outputId": "cc2ff598-3271-4d7f-c5eb-79034b79d77e"
      },
      "execution_count": 3,
      "outputs": [
        {
          "output_type": "stream",
          "name": "stdout",
          "text": [
            "<class 'pandas.core.frame.DataFrame'>\n",
            "RangeIndex: 440 entries, 0 to 439\n",
            "Data columns (total 8 columns):\n",
            " #   Column            Non-Null Count  Dtype\n",
            "---  ------            --------------  -----\n",
            " 0   Channel           440 non-null    int64\n",
            " 1   Region            440 non-null    int64\n",
            " 2   Fresh             440 non-null    int64\n",
            " 3   Milk              440 non-null    int64\n",
            " 4   Grocery           440 non-null    int64\n",
            " 5   Frozen            440 non-null    int64\n",
            " 6   Detergents_Paper  440 non-null    int64\n",
            " 7   Delicassen        440 non-null    int64\n",
            "dtypes: int64(8)\n",
            "memory usage: 27.6 KB\n"
          ]
        }
      ]
    },
    {
      "cell_type": "code",
      "source": [
        "df.head()"
      ],
      "metadata": {
        "colab": {
          "base_uri": "https://localhost:8080/",
          "height": 204
        },
        "id": "Yc3uWZ0V3KoB",
        "outputId": "0c30f310-437b-4637-8475-ff08a667cf99"
      },
      "execution_count": 4,
      "outputs": [
        {
          "output_type": "execute_result",
          "data": {
            "text/plain": [
              "   Channel  Region  Fresh  Milk  Grocery  Frozen  Detergents_Paper  Delicassen\n",
              "0        2       3  12669  9656     7561     214              2674        1338\n",
              "1        2       3   7057  9810     9568    1762              3293        1776\n",
              "2        2       3   6353  8808     7684    2405              3516        7844\n",
              "3        1       3  13265  1196     4221    6404               507        1788\n",
              "4        2       3  22615  5410     7198    3915              1777        5185"
            ],
            "text/html": [
              "\n",
              "  <div id=\"df-7e748822-7191-47b2-a88c-69897b556fc7\" class=\"colab-df-container\">\n",
              "    <div>\n",
              "<style scoped>\n",
              "    .dataframe tbody tr th:only-of-type {\n",
              "        vertical-align: middle;\n",
              "    }\n",
              "\n",
              "    .dataframe tbody tr th {\n",
              "        vertical-align: top;\n",
              "    }\n",
              "\n",
              "    .dataframe thead th {\n",
              "        text-align: right;\n",
              "    }\n",
              "</style>\n",
              "<table border=\"1\" class=\"dataframe\">\n",
              "  <thead>\n",
              "    <tr style=\"text-align: right;\">\n",
              "      <th></th>\n",
              "      <th>Channel</th>\n",
              "      <th>Region</th>\n",
              "      <th>Fresh</th>\n",
              "      <th>Milk</th>\n",
              "      <th>Grocery</th>\n",
              "      <th>Frozen</th>\n",
              "      <th>Detergents_Paper</th>\n",
              "      <th>Delicassen</th>\n",
              "    </tr>\n",
              "  </thead>\n",
              "  <tbody>\n",
              "    <tr>\n",
              "      <th>0</th>\n",
              "      <td>2</td>\n",
              "      <td>3</td>\n",
              "      <td>12669</td>\n",
              "      <td>9656</td>\n",
              "      <td>7561</td>\n",
              "      <td>214</td>\n",
              "      <td>2674</td>\n",
              "      <td>1338</td>\n",
              "    </tr>\n",
              "    <tr>\n",
              "      <th>1</th>\n",
              "      <td>2</td>\n",
              "      <td>3</td>\n",
              "      <td>7057</td>\n",
              "      <td>9810</td>\n",
              "      <td>9568</td>\n",
              "      <td>1762</td>\n",
              "      <td>3293</td>\n",
              "      <td>1776</td>\n",
              "    </tr>\n",
              "    <tr>\n",
              "      <th>2</th>\n",
              "      <td>2</td>\n",
              "      <td>3</td>\n",
              "      <td>6353</td>\n",
              "      <td>8808</td>\n",
              "      <td>7684</td>\n",
              "      <td>2405</td>\n",
              "      <td>3516</td>\n",
              "      <td>7844</td>\n",
              "    </tr>\n",
              "    <tr>\n",
              "      <th>3</th>\n",
              "      <td>1</td>\n",
              "      <td>3</td>\n",
              "      <td>13265</td>\n",
              "      <td>1196</td>\n",
              "      <td>4221</td>\n",
              "      <td>6404</td>\n",
              "      <td>507</td>\n",
              "      <td>1788</td>\n",
              "    </tr>\n",
              "    <tr>\n",
              "      <th>4</th>\n",
              "      <td>2</td>\n",
              "      <td>3</td>\n",
              "      <td>22615</td>\n",
              "      <td>5410</td>\n",
              "      <td>7198</td>\n",
              "      <td>3915</td>\n",
              "      <td>1777</td>\n",
              "      <td>5185</td>\n",
              "    </tr>\n",
              "  </tbody>\n",
              "</table>\n",
              "</div>\n",
              "    <div class=\"colab-df-buttons\">\n",
              "\n",
              "  <div class=\"colab-df-container\">\n",
              "    <button class=\"colab-df-convert\" onclick=\"convertToInteractive('df-7e748822-7191-47b2-a88c-69897b556fc7')\"\n",
              "            title=\"Convert this dataframe to an interactive table.\"\n",
              "            style=\"display:none;\">\n",
              "\n",
              "  <svg xmlns=\"http://www.w3.org/2000/svg\" height=\"24px\" viewBox=\"0 -960 960 960\">\n",
              "    <path d=\"M120-120v-720h720v720H120Zm60-500h600v-160H180v160Zm220 220h160v-160H400v160Zm0 220h160v-160H400v160ZM180-400h160v-160H180v160Zm440 0h160v-160H620v160ZM180-180h160v-160H180v160Zm440 0h160v-160H620v160Z\"/>\n",
              "  </svg>\n",
              "    </button>\n",
              "\n",
              "  <style>\n",
              "    .colab-df-container {\n",
              "      display:flex;\n",
              "      gap: 12px;\n",
              "    }\n",
              "\n",
              "    .colab-df-convert {\n",
              "      background-color: #E8F0FE;\n",
              "      border: none;\n",
              "      border-radius: 50%;\n",
              "      cursor: pointer;\n",
              "      display: none;\n",
              "      fill: #1967D2;\n",
              "      height: 32px;\n",
              "      padding: 0 0 0 0;\n",
              "      width: 32px;\n",
              "    }\n",
              "\n",
              "    .colab-df-convert:hover {\n",
              "      background-color: #E2EBFA;\n",
              "      box-shadow: 0px 1px 2px rgba(60, 64, 67, 0.3), 0px 1px 3px 1px rgba(60, 64, 67, 0.15);\n",
              "      fill: #174EA6;\n",
              "    }\n",
              "\n",
              "    .colab-df-buttons div {\n",
              "      margin-bottom: 4px;\n",
              "    }\n",
              "\n",
              "    [theme=dark] .colab-df-convert {\n",
              "      background-color: #3B4455;\n",
              "      fill: #D2E3FC;\n",
              "    }\n",
              "\n",
              "    [theme=dark] .colab-df-convert:hover {\n",
              "      background-color: #434B5C;\n",
              "      box-shadow: 0px 1px 3px 1px rgba(0, 0, 0, 0.15);\n",
              "      filter: drop-shadow(0px 1px 2px rgba(0, 0, 0, 0.3));\n",
              "      fill: #FFFFFF;\n",
              "    }\n",
              "  </style>\n",
              "\n",
              "    <script>\n",
              "      const buttonEl =\n",
              "        document.querySelector('#df-7e748822-7191-47b2-a88c-69897b556fc7 button.colab-df-convert');\n",
              "      buttonEl.style.display =\n",
              "        google.colab.kernel.accessAllowed ? 'block' : 'none';\n",
              "\n",
              "      async function convertToInteractive(key) {\n",
              "        const element = document.querySelector('#df-7e748822-7191-47b2-a88c-69897b556fc7');\n",
              "        const dataTable =\n",
              "          await google.colab.kernel.invokeFunction('convertToInteractive',\n",
              "                                                    [key], {});\n",
              "        if (!dataTable) return;\n",
              "\n",
              "        const docLinkHtml = 'Like what you see? Visit the ' +\n",
              "          '<a target=\"_blank\" href=https://colab.research.google.com/notebooks/data_table.ipynb>data table notebook</a>'\n",
              "          + ' to learn more about interactive tables.';\n",
              "        element.innerHTML = '';\n",
              "        dataTable['output_type'] = 'display_data';\n",
              "        await google.colab.output.renderOutput(dataTable, element);\n",
              "        const docLink = document.createElement('div');\n",
              "        docLink.innerHTML = docLinkHtml;\n",
              "        element.appendChild(docLink);\n",
              "      }\n",
              "    </script>\n",
              "  </div>\n",
              "\n",
              "\n",
              "<div id=\"df-7f6c9009-b652-49c6-9741-572949c5ed55\">\n",
              "  <button class=\"colab-df-quickchart\" onclick=\"quickchart('df-7f6c9009-b652-49c6-9741-572949c5ed55')\"\n",
              "            title=\"Suggest charts\"\n",
              "            style=\"display:none;\">\n",
              "\n",
              "<svg xmlns=\"http://www.w3.org/2000/svg\" height=\"24px\"viewBox=\"0 0 24 24\"\n",
              "     width=\"24px\">\n",
              "    <g>\n",
              "        <path d=\"M19 3H5c-1.1 0-2 .9-2 2v14c0 1.1.9 2 2 2h14c1.1 0 2-.9 2-2V5c0-1.1-.9-2-2-2zM9 17H7v-7h2v7zm4 0h-2V7h2v10zm4 0h-2v-4h2v4z\"/>\n",
              "    </g>\n",
              "</svg>\n",
              "  </button>\n",
              "\n",
              "<style>\n",
              "  .colab-df-quickchart {\n",
              "      --bg-color: #E8F0FE;\n",
              "      --fill-color: #1967D2;\n",
              "      --hover-bg-color: #E2EBFA;\n",
              "      --hover-fill-color: #174EA6;\n",
              "      --disabled-fill-color: #AAA;\n",
              "      --disabled-bg-color: #DDD;\n",
              "  }\n",
              "\n",
              "  [theme=dark] .colab-df-quickchart {\n",
              "      --bg-color: #3B4455;\n",
              "      --fill-color: #D2E3FC;\n",
              "      --hover-bg-color: #434B5C;\n",
              "      --hover-fill-color: #FFFFFF;\n",
              "      --disabled-bg-color: #3B4455;\n",
              "      --disabled-fill-color: #666;\n",
              "  }\n",
              "\n",
              "  .colab-df-quickchart {\n",
              "    background-color: var(--bg-color);\n",
              "    border: none;\n",
              "    border-radius: 50%;\n",
              "    cursor: pointer;\n",
              "    display: none;\n",
              "    fill: var(--fill-color);\n",
              "    height: 32px;\n",
              "    padding: 0;\n",
              "    width: 32px;\n",
              "  }\n",
              "\n",
              "  .colab-df-quickchart:hover {\n",
              "    background-color: var(--hover-bg-color);\n",
              "    box-shadow: 0 1px 2px rgba(60, 64, 67, 0.3), 0 1px 3px 1px rgba(60, 64, 67, 0.15);\n",
              "    fill: var(--button-hover-fill-color);\n",
              "  }\n",
              "\n",
              "  .colab-df-quickchart-complete:disabled,\n",
              "  .colab-df-quickchart-complete:disabled:hover {\n",
              "    background-color: var(--disabled-bg-color);\n",
              "    fill: var(--disabled-fill-color);\n",
              "    box-shadow: none;\n",
              "  }\n",
              "\n",
              "  .colab-df-spinner {\n",
              "    border: 2px solid var(--fill-color);\n",
              "    border-color: transparent;\n",
              "    border-bottom-color: var(--fill-color);\n",
              "    animation:\n",
              "      spin 1s steps(1) infinite;\n",
              "  }\n",
              "\n",
              "  @keyframes spin {\n",
              "    0% {\n",
              "      border-color: transparent;\n",
              "      border-bottom-color: var(--fill-color);\n",
              "      border-left-color: var(--fill-color);\n",
              "    }\n",
              "    20% {\n",
              "      border-color: transparent;\n",
              "      border-left-color: var(--fill-color);\n",
              "      border-top-color: var(--fill-color);\n",
              "    }\n",
              "    30% {\n",
              "      border-color: transparent;\n",
              "      border-left-color: var(--fill-color);\n",
              "      border-top-color: var(--fill-color);\n",
              "      border-right-color: var(--fill-color);\n",
              "    }\n",
              "    40% {\n",
              "      border-color: transparent;\n",
              "      border-right-color: var(--fill-color);\n",
              "      border-top-color: var(--fill-color);\n",
              "    }\n",
              "    60% {\n",
              "      border-color: transparent;\n",
              "      border-right-color: var(--fill-color);\n",
              "    }\n",
              "    80% {\n",
              "      border-color: transparent;\n",
              "      border-right-color: var(--fill-color);\n",
              "      border-bottom-color: var(--fill-color);\n",
              "    }\n",
              "    90% {\n",
              "      border-color: transparent;\n",
              "      border-bottom-color: var(--fill-color);\n",
              "    }\n",
              "  }\n",
              "</style>\n",
              "\n",
              "  <script>\n",
              "    async function quickchart(key) {\n",
              "      const quickchartButtonEl =\n",
              "        document.querySelector('#' + key + ' button');\n",
              "      quickchartButtonEl.disabled = true;  // To prevent multiple clicks.\n",
              "      quickchartButtonEl.classList.add('colab-df-spinner');\n",
              "      try {\n",
              "        const charts = await google.colab.kernel.invokeFunction(\n",
              "            'suggestCharts', [key], {});\n",
              "      } catch (error) {\n",
              "        console.error('Error during call to suggestCharts:', error);\n",
              "      }\n",
              "      quickchartButtonEl.classList.remove('colab-df-spinner');\n",
              "      quickchartButtonEl.classList.add('colab-df-quickchart-complete');\n",
              "    }\n",
              "    (() => {\n",
              "      let quickchartButtonEl =\n",
              "        document.querySelector('#df-7f6c9009-b652-49c6-9741-572949c5ed55 button');\n",
              "      quickchartButtonEl.style.display =\n",
              "        google.colab.kernel.accessAllowed ? 'block' : 'none';\n",
              "    })();\n",
              "  </script>\n",
              "</div>\n",
              "    </div>\n",
              "  </div>\n"
            ]
          },
          "metadata": {},
          "execution_count": 4
        }
      ]
    },
    {
      "cell_type": "markdown",
      "source": [
        "- The dataset consists of 440 customers and has 8 attributes for each of these customers.\n",
        "\n",
        "- No missing values\n",
        "\n",
        "- Only two variables are **non-continuous (categorical)** in nature: Channel and Region.\n",
        "\n",
        "- So for easing our computations, we will drop these two categorical features."
      ],
      "metadata": {
        "id": "NvANYw9_3ReL"
      }
    },
    {
      "cell_type": "code",
      "source": [
        "# Dropping categorical variables for simplicity\n",
        "df.drop([\"Channel\", \"Region\"], axis = 1, inplace = True)"
      ],
      "metadata": {
        "id": "VY3WBWSx3KkW"
      },
      "execution_count": 5,
      "outputs": []
    },
    {
      "cell_type": "markdown",
      "source": [
        "#### **Visualizing the data in 2D**\n",
        "\n",
        "Using 2 features:\n",
        "\n",
        "1. **Grocery:** The customer’s annual spending (in some monetary unit) on grocery products.\n",
        "2. **Milk:** The customer’s annual spending (in some monetary unit) on milk products.\n",
        "\n",
        "#### Let's plot two features data now:"
      ],
      "metadata": {
        "id": "cXtSuhei3ds6"
      }
    },
    {
      "cell_type": "code",
      "source": [
        "x = df['Grocery']\n",
        "y = df['Milk']\n",
        "\n",
        "plt.scatter(x,y)\n",
        "plt.xlabel(\"Groceries\")\n",
        "plt.ylabel(\"Milk\")\n",
        "plt.show()"
      ],
      "metadata": {
        "colab": {
          "base_uri": "https://localhost:8080/",
          "height": 991
        },
        "id": "rFwHDc7J3KdI",
        "outputId": "72b68640-3e02-4c89-a2a8-75dd0bcdf604"
      },
      "execution_count": 6,
      "outputs": [
        {
          "output_type": "display_data",
          "data": {
            "text/plain": [
              "<Figure size 1600x1200 with 1 Axes>"
            ],
            "image/png": "[encoded data removed]"
          },
          "metadata": {}
        }
      ]
    },
    {
      "cell_type": "markdown",
      "source": [
        "**Q. Can you point out some problems that the clustering algorithms that we've learned till now might face?**\n",
        "\n",
        "- We can easily see the data points that are far away from rest of the data points.\n",
        "\n",
        "- Well, those are our **outlier** data points.\n",
        "\n",
        "- **K-Means is sensitive to outliers** and will try to cluster the outliers as well."
      ],
      "metadata": {
        "id": "vp7MBvhR3hkg"
      }
    },
    {
      "cell_type": "code",
      "source": [
        "df = df[['Grocery', 'Milk']]\n",
        "std_scaler = StandardScaler().fit(df)\n",
        "std_df = std_scaler.transform(df)"
      ],
      "metadata": {
        "id": "xTgUL5OrAYTu"
      },
      "execution_count": null,
      "outputs": []
    },
    {
      "cell_type": "code",
      "source": [
        "from sklearn.cluster import KMeans\n",
        "\n",
        "k = 2 ## arbitrary value\n",
        "kmeans = KMeans(n_clusters=k)\n",
        "y_pred = kmeans.fit_predict(std_df)"
      ],
      "metadata": {
        "id": "VInvgWQ7_vq4"
      },
      "execution_count": null,
      "outputs": []
    },
    {
      "cell_type": "code",
      "source": [
        "clusters = df.copy()\n",
        "clusters['label'] = kmeans.labels_\n",
        "clusters"
      ],
      "metadata": {
        "colab": {
          "base_uri": "https://localhost:8080/",
          "height": 424
        },
        "id": "7oMUhQa6_--F",
        "outputId": "e661df43-2438-4ef4-99ea-a6ddf61f1acd"
      },
      "execution_count": null,
      "outputs": [
        {
          "output_type": "execute_result",
          "data": {
            "text/plain": [
              "     Grocery   Milk  label\n",
              "0       7561   9656      1\n",
              "1       9568   9810      1\n",
              "2       7684   8808      1\n",
              "3       4221   1196      1\n",
              "4       7198   5410      1\n",
              "..       ...    ...    ...\n",
              "435    16027  12051      1\n",
              "436      764   1431      1\n",
              "437    30243  15488      0\n",
              "438     2232   1981      1\n",
              "439     2510   1698      1\n",
              "\n",
              "[440 rows x 3 columns]"
            ],
            "text/html": [
              "\n",
              "  <div id=\"df-3480b386-638f-4093-91cf-85f850d58336\">\n",
              "    <div class=\"colab-df-container\">\n",
              "      <div>\n",
              "<style scoped>\n",
              "    .dataframe tbody tr th:only-of-type {\n",
              "        vertical-align: middle;\n",
              "    }\n",
              "\n",
              "    .dataframe tbody tr th {\n",
              "        vertical-align: top;\n",
              "    }\n",
              "\n",
              "    .dataframe thead th {\n",
              "        text-align: right;\n",
              "    }\n",
              "</style>\n",
              "<table border=\"1\" class=\"dataframe\">\n",
              "  <thead>\n",
              "    <tr style=\"text-align: right;\">\n",
              "      <th></th>\n",
              "      <th>Grocery</th>\n",
              "      <th>Milk</th>\n",
              "      <th>label</th>\n",
              "    </tr>\n",
              "  </thead>\n",
              "  <tbody>\n",
              "    <tr>\n",
              "      <th>0</th>\n",
              "      <td>7561</td>\n",
              "      <td>9656</td>\n",
              "      <td>1</td>\n",
              "    </tr>\n",
              "    <tr>\n",
              "      <th>1</th>\n",
              "      <td>9568</td>\n",
              "      <td>9810</td>\n",
              "      <td>1</td>\n",
              "    </tr>\n",
              "    <tr>\n",
              "      <th>2</th>\n",
              "      <td>7684</td>\n",
              "      <td>8808</td>\n",
              "      <td>1</td>\n",
              "    </tr>\n",
              "    <tr>\n",
              "      <th>3</th>\n",
              "      <td>4221</td>\n",
              "      <td>1196</td>\n",
              "      <td>1</td>\n",
              "    </tr>\n",
              "    <tr>\n",
              "      <th>4</th>\n",
              "      <td>7198</td>\n",
              "      <td>5410</td>\n",
              "      <td>1</td>\n",
              "    </tr>\n",
              "    <tr>\n",
              "      <th>...</th>\n",
              "      <td>...</td>\n",
              "      <td>...</td>\n",
              "      <td>...</td>\n",
              "    </tr>\n",
              "    <tr>\n",
              "      <th>435</th>\n",
              "      <td>16027</td>\n",
              "      <td>12051</td>\n",
              "      <td>1</td>\n",
              "    </tr>\n",
              "    <tr>\n",
              "      <th>436</th>\n",
              "      <td>764</td>\n",
              "      <td>1431</td>\n",
              "      <td>1</td>\n",
              "    </tr>\n",
              "    <tr>\n",
              "      <th>437</th>\n",
              "      <td>30243</td>\n",
              "      <td>15488</td>\n",
              "      <td>0</td>\n",
              "    </tr>\n",
              "    <tr>\n",
              "      <th>438</th>\n",
              "      <td>2232</td>\n",
              "      <td>1981</td>\n",
              "      <td>1</td>\n",
              "    </tr>\n",
              "    <tr>\n",
              "      <th>439</th>\n",
              "      <td>2510</td>\n",
              "      <td>1698</td>\n",
              "      <td>1</td>\n",
              "    </tr>\n",
              "  </tbody>\n",
              "</table>\n",
              "<p>440 rows × 3 columns</p>\n",
              "</div>\n",
              "      <button class=\"colab-df-convert\" onclick=\"convertToInteractive('df-3480b386-638f-4093-91cf-85f850d58336')\"\n",
              "              title=\"Convert this dataframe to an interactive table.\"\n",
              "              style=\"display:none;\">\n",
              "        \n",
              "  <svg xmlns=\"http://www.w3.org/2000/svg\" height=\"24px\"viewBox=\"0 0 24 24\"\n",
              "       width=\"24px\">\n",
              "    <path d=\"M0 0h24v24H0V0z\" fill=\"none\"/>\n",
              "    <path d=\"M18.56 5.44l.94 2.06.94-2.06 2.06-.94-2.06-.94-.94-2.06-.94 2.06-2.06.94zm-11 1L8.5 8.5l.94-2.06 2.06-.94-2.06-.94L8.5 2.5l-.94 2.06-2.06.94zm10 10l.94 2.06.94-2.06 2.06-.94-2.06-.94-.94-2.06-.94 2.06-2.06.94z\"/><path d=\"M17.41 7.96l-1.37-1.37c-.4-.4-.92-.59-1.43-.59-.52 0-1.04.2-1.43.59L10.3 9.45l-7.72 7.72c-.78.78-.78 2.05 0 2.83L4 21.41c.39.39.9.59 1.41.59.51 0 1.02-.2 1.41-.59l7.78-7.78 2.81-2.81c.8-.78.8-2.07 0-2.86zM5.41 20L4 18.59l7.72-7.72 1.47 1.35L5.41 20z\"/>\n",
              "  </svg>\n",
              "      </button>\n",
              "      \n",
              "  <style>\n",
              "    .colab-df-container {\n",
              "      display:flex;\n",
              "      flex-wrap:wrap;\n",
              "      gap: 12px;\n",
              "    }\n",
              "\n",
              "    .colab-df-convert {\n",
              "      background-color: #E8F0FE;\n",
              "      border: none;\n",
              "      border-radius: 50%;\n",
              "      cursor: pointer;\n",
              "      display: none;\n",
              "      fill: #1967D2;\n",
              "      height: 32px;\n",
              "      padding: 0 0 0 0;\n",
              "      width: 32px;\n",
              "    }\n",
              "\n",
              "    .colab-df-convert:hover {\n",
              "      background-color: #E2EBFA;\n",
              "      box-shadow: 0px 1px 2px rgba(60, 64, 67, 0.3), 0px 1px 3px 1px rgba(60, 64, 67, 0.15);\n",
              "      fill: #174EA6;\n",
              "    }\n",
              "\n",
              "    [theme=dark] .colab-df-convert {\n",
              "      background-color: #3B4455;\n",
              "      fill: #D2E3FC;\n",
              "    }\n",
              "\n",
              "    [theme=dark] .colab-df-convert:hover {\n",
              "      background-color: #434B5C;\n",
              "      box-shadow: 0px 1px 3px 1px rgba(0, 0, 0, 0.15);\n",
              "      filter: drop-shadow(0px 1px 2px rgba(0, 0, 0, 0.3));\n",
              "      fill: #FFFFFF;\n",
              "    }\n",
              "  </style>\n",
              "\n",
              "      <script>\n",
              "        const buttonEl =\n",
              "          document.querySelector('#df-3480b386-638f-4093-91cf-85f850d58336 button.colab-df-convert');\n",
              "        buttonEl.style.display =\n",
              "          google.colab.kernel.accessAllowed ? 'block' : 'none';\n",
              "\n",
              "        async function convertToInteractive(key) {\n",
              "          const element = document.querySelector('#df-3480b386-638f-4093-91cf-85f850d58336');\n",
              "          const dataTable =\n",
              "            await google.colab.kernel.invokeFunction('convertToInteractive',\n",
              "                                                     [key], {});\n",
              "          if (!dataTable) return;\n",
              "\n",
              "          const docLinkHtml = 'Like what you see? Visit the ' +\n",
              "            '<a target=\"_blank\" href=https://colab.research.google.com/notebooks/data_table.ipynb>data table notebook</a>'\n",
              "            + ' to learn more about interactive tables.';\n",
              "          element.innerHTML = '';\n",
              "          dataTable['output_type'] = 'display_data';\n",
              "          await google.colab.output.renderOutput(dataTable, element);\n",
              "          const docLink = document.createElement('div');\n",
              "          docLink.innerHTML = docLinkHtml;\n",
              "          element.appendChild(docLink);\n",
              "        }\n",
              "      </script>\n",
              "    </div>\n",
              "  </div>\n",
              "  "
            ]
          },
          "metadata": {},
          "execution_count": 9
        }
      ]
    },
    {
      "cell_type": "code",
      "source": [
        "plt.scatter(clusters['Grocery'], clusters['Milk'], s=40, c=clusters['label'])"
      ],
      "metadata": {
        "colab": {
          "base_uri": "https://localhost:8080/",
          "height": 539
        },
        "id": "21iUWmnUAsK-",
        "outputId": "c613a367-7564-4436-bb20-982556f6a61a"
      },
      "execution_count": null,
      "outputs": [
        {
          "output_type": "execute_result",
          "data": {
            "text/plain": [
              "<matplotlib.collections.PathCollection at 0x7f270425a610>"
            ]
          },
          "metadata": {},
          "execution_count": 10
        },
        {
          "output_type": "display_data",
          "data": {
            "text/plain": [
              "<Figure size 1152x864 with 1 Axes>"
            ],
            "image/png": "[encoded data removed]"
          },
          "metadata": {
            "needs_background": "light"
          }
        }
      ]
    },
    {
      "cell_type": "markdown",
      "source": [
        "**Q. What about Hierarchical Clustering?**\n",
        "\n",
        "- One can define the optimal number of clustering after the algorithm has converged. This can certainly reduce the affect of outliers on the results."
      ],
      "metadata": {
        "id": "VB6i3IxC__-Q"
      }
    },
    {
      "cell_type": "code",
      "source": [
        "from sklearn.cluster import AgglomerativeClustering\n",
        "agc = AgglomerativeClustering(n_clusters=2, affinity='euclidean', linkage='ward')\n",
        "agc_pred = agc.fit_predict(std_df)\n",
        "clusters['agc labels'] = agc.labels_"
      ],
      "metadata": {
        "id": "wJgZUOK4AIAj"
      },
      "execution_count": null,
      "outputs": []
    },
    {
      "cell_type": "code",
      "source": [
        "plt.scatter(clusters['Grocery'], clusters['Milk'], s=40, c=clusters['agc labels'])"
      ],
      "metadata": {
        "colab": {
          "base_uri": "https://localhost:8080/",
          "height": 539
        },
        "id": "_VAge7K4Cg79",
        "outputId": "785682e6-30e1-4774-eb51-6fb977202a75"
      },
      "execution_count": null,
      "outputs": [
        {
          "output_type": "execute_result",
          "data": {
            "text/plain": [
              "<matplotlib.collections.PathCollection at 0x7f270394c490>"
            ]
          },
          "metadata": {},
          "execution_count": 14
        },
        {
          "output_type": "display_data",
          "data": {
            "text/plain": [
              "<Figure size 1152x864 with 1 Axes>"
            ],
            "image/png": "[encoded data removed]"
          },
          "metadata": {
            "needs_background": "light"
          }
        }
      ]
    },
    {
      "cell_type": "markdown",
      "source": [
        "**Q. So, why do we need to learn these two new algorithms?**\n",
        "- If you notice carefully, a whole lot of customers are gruped together near the origin.\n",
        "\n",
        "- At somewhere around the value of $(Groceris,Milk) = (25'000, 15'000)$, there are some noise points and that is where the customers are getting a little spread.\n",
        "\n",
        "- Think of them as your premium segment customers from which the company makes a significant amount of sales.\n",
        "\n",
        "- If we use hierarchical or K-Means clustering, chances are that significant part of these customers will get segment with regular ones (customers who spent less)\n",
        "\n",
        "Let's see how DBSCAN tackles this problem."
      ],
      "metadata": {
        "id": "txbY6MPDAIdC"
      }
    },
    {
      "cell_type": "markdown",
      "source": [
        "\n",
        "\n",
        "Images of DBSCAN shown in the lecture can be found here: https://cs.wmich.edu/alfuqaha/summer14/cs6530/lectures/ClusteringAnalysis.pdf\n",
        "\n",
        "Alternative link: https://drive.google.com/file/d/1ok4aGA1AZna3XyodOrLO8DYbZImpI7l9/view?usp=sharing"
      ],
      "metadata": {
        "id": "fF2KK5at9S4w"
      }
    },
    {
      "cell_type": "markdown",
      "source": [
        "## **DBSCAN**"
      ],
      "metadata": {
        "id": "4xw9t6roQDxe"
      }
    },
    {
      "cell_type": "markdown",
      "source": [
        "- DBSCAN refers to Density-based spatial clustering of application with noise\n",
        "- DBSCAN works fairly well with large data and is able to handle noise and outliers very efficiently"
      ],
      "metadata": {
        "id": "DyL6YBpAQDvR"
      }
    },
    {
      "cell_type": "markdown",
      "source": [
        "#### **Key Ideas behind DBSCAN**\n",
        "\n",
        "To understand the working of DBSCAN, there are some key-ideas that we need to understand. Let's do that in the next couple of minutes\n",
        "\n",
        "1. Min points\n",
        "2. Eps (epsilon)\n",
        "3. core-point\n",
        "4. border-point\n",
        "5. noise-point"
      ],
      "metadata": {
        "id": "F7NveQ6aQDs6"
      }
    },
    {
      "cell_type": "markdown",
      "source": [
        "##### **Density and Dense Region**"
      ],
      "metadata": {
        "id": "_COlj6R7WgWh"
      }
    },
    {
      "cell_type": "markdown",
      "source": [
        "As the name suggests that it is **Density-based**, but what does it really mean?\n",
        "\n",
        "- DBSCAN uses a concept of density, which can be defined as;\n",
        "\n",
        "  - at a certain point $P$, density at point $P$ is the number of points within a hypersphere centered at $P$ with radius of $epsilon$\n",
        "\n",
        "<img src='https://drive.google.com/uc?id=1XLqS1Bl7hgGm5ua9WN4z_ZxaJRjLFIKE'>\n"
      ],
      "metadata": {
        "id": "QPH5SEL8SS-L"
      }
    },
    {
      "cell_type": "markdown",
      "source": [
        "> Q. **We have defined what density is, but which region can be chosen as a dense region?**\n",
        "\n",
        "To answer this, consider any region around point $P$ within $eps$ radius, if there are more datapoints than $minpts$, we call the region as a **Dense** region.\n",
        "\n",
        "For example, let's say we have $eps = 1$ and $minpts = 10$\n",
        "- Consider two points $P_{1}$ and $P_{2}$, both with a radius of $eps$\n",
        "- Suppose there are 20 points around point $P_{1}$, and only 6 points around point $P_{2}$ within the radius of $eps$, then we say the region around point $P_{1}$ as dense and region around point $P_{2}$ as non-dense\n",
        "\n",
        "<img src='https://drive.google.com/uc?id=10hEEKCIKOyBvlPS8xztJol8ZqLEzBQIO'>\n"
      ],
      "metadata": {
        "id": "SEzLICaVSS7a"
      }
    },
    {
      "cell_type": "markdown",
      "source": [
        "##### **Min Points and Epsilon**\n",
        "\n",
        "> Q. **So, what exactly are '$minpts$' and '$eps$'?**\n",
        "\n",
        "- **$minpts$** are the minimum number of points that we need in a hypershpere around point $P$ with the radius of **$eps$** for considering the region as **Dense** region.\n",
        "\n",
        "- $minpts$ acts like a certain threshold and $eps$ is the radius of the hypershpere"
      ],
      "metadata": {
        "id": "7jsuVEO0u0e1"
      }
    },
    {
      "cell_type": "markdown",
      "source": [
        "##### **Core point**"
      ],
      "metadata": {
        "id": "TiIXsdDgQDqV"
      }
    },
    {
      "cell_type": "markdown",
      "source": [
        "\n",
        "This leads us to discuss next key-ideas. We'll start with $core-point$. So, what is a $core-point$?\n",
        "\n",
        "- If a point $P$ has points $\\geq minpts$ within the radius of $eps$, then $P$ is a core point.\n",
        "- This also implies that point $P$ has a dense region around it\n",
        "\n",
        "<img src='https://drive.google.com/uc?id=1UhVDrULt14o1ThZpo3xBgU5mmEcCSFJD'>"
      ],
      "metadata": {
        "id": "Fd7h5SWHiVxR"
      }
    },
    {
      "cell_type": "markdown",
      "source": [
        "##### Q. Border Point\n"
      ],
      "metadata": {
        "id": "18PIZObyJ6wL"
      }
    },
    {
      "cell_type": "markdown",
      "source": [
        "Next, we'll dicuss **border-point**. So, what is a border point?\n",
        "\n",
        "- A point $P$ can be defined as a border-point if:\n",
        "  1. $P$ is not a core point\n",
        "  2. Point $P$ lies in the neighborhood of point $Q$ such that point $Q$ is a core-point\n",
        "\n",
        "> Q. what is **neighborhood**?\n",
        "- A point $P$ is said to be in the neigborhood of point $Q$, if distance between point $P$ and $Q$ is less than $eps$ value; i.e. $dist(P,Q) \\leq eps$\n",
        "\n",
        "<img src='https://drive.google.com/uc?id=1l7GB8yO6Jr0vnzOEigKsiJDj7qi05TFe'>"
      ],
      "metadata": {
        "id": "J4hkZ_mwsBrp"
      }
    },
    {
      "cell_type": "markdown",
      "source": [
        "##### **Noise Point**"
      ],
      "metadata": {
        "id": "iA8P61-nJtS7"
      }
    },
    {
      "cell_type": "markdown",
      "source": [
        "One more type of point is **Noise Point**.\n",
        "- It is a point which is neither a core point nor border point\n",
        "- Suppose around core point $P$, a border point $Q$, and a point $R$ which is in a non-dense region, the point $R$ is said to be a noise point\n",
        "\n",
        "<img src='https://drive.google.com/uc?id=1wYV4ucA_rmD-7LwsUHhXjXsus7DDp4Mr'>\n",
        "\n",
        "***"
      ],
      "metadata": {
        "id": "ICuWfBfJJtDz"
      }
    },
    {
      "cell_type": "markdown",
      "source": [
        "**NOTE:** One thing to understand is that, when using DBSCAN, we fix two things:\n",
        "1. Min Points\n",
        "2. Epsilon.\n",
        "\n",
        "By fixing these hyperpameters, we get core points, border points and noise points as well"
      ],
      "metadata": {
        "id": "EyjRsSumLsUn"
      }
    },
    {
      "cell_type": "markdown",
      "source": [
        "Want to see how DBSCAN labels datapoints into core points, border points and noise points? Here you go:\n",
        "\n",
        "<img src='https://drive.google.com/uc?id=1LtCcQRxe_mjnAmJw0JJNGDDZITIYdugm'>\n",
        "\n",
        "Observe how well DBSCAN can differentiate between core points, border points and border points. This is exactly what we wanted for segmenting customers."
      ],
      "metadata": {
        "id": "9LrMX3MSM1Ke"
      }
    },
    {
      "cell_type": "markdown",
      "source": [
        "Before moving to the working of DBSCAN, let's understand two more terms:\n",
        "1. Density Edge\n",
        "2. Density Connecteed points"
      ],
      "metadata": {
        "id": "pJGVmaIjN4EU"
      }
    },
    {
      "cell_type": "markdown",
      "source": [
        "##### **Density Edge**\n",
        "- If we draw a line from one point (vertex) to another point of our dataset, then it is known as an edge\n",
        "\n",
        "So, what is a density edge?\n",
        "\n",
        "- If points $P$ and $Q$ are two core points and the distance between point $P$ and $Q$ is less than or equal to $eps$ value, then an edge between point $P$ and $Q$ is known as a **density edge**\n",
        "\n",
        "<img src='https://drive.google.com/uc?id=114O2mtGVM83j0hZgfELOmTR3cnKbCyND'>"
      ],
      "metadata": {
        "id": "YjSjp6xCN4Bj"
      }
    },
    {
      "cell_type": "markdown",
      "source": [
        "##### **Density Connected Points**\n",
        "\n",
        "- Point $P$ and $Q$ can be said as density connected points;\n",
        "  - if both points are core points\n",
        "  -  if there exists other density edges connecting point $P$ and $Q$\n",
        "\n",
        "- Imagine we have two core points, point $P$ and $Q$ and there are other core points connecting point $P$ with point $Q$; say $P_{1}, P_{2},....P_{n}$, where the distance between each point $P_{1}, P_{2},....P_{n}$ is less than $eps$\n",
        "\n",
        "- Then point $P$ and point $Q$ are said to be density connected points\n",
        "\n",
        "<img src='https://drive.google.com/uc?id=1L6ituwu7wvcOx22DmrBTEgSIoHSsobSF'>\n",
        "\n",
        "> **Q. If the distance between point $P$ and $Q$ is greater than $eps$, are they still density connected points?**\n",
        "\n",
        "Yes! One thing to note here is that the disatnce between point $P$ and $Q$ can be more, less or equal to the value of $eps$\n",
        "\n",
        "***"
      ],
      "metadata": {
        "id": "tLzETvQSJtA_"
      }
    },
    {
      "cell_type": "markdown",
      "source": [
        "## **DBSCAN Algorithm**"
      ],
      "metadata": {
        "id": "CzBdKJ_ietaj"
      }
    },
    {
      "cell_type": "markdown",
      "source": [
        "So, how does DBSCAN uses all this information, and makes clusters out of datapoints? Lets see how DBSCAN Algorithm works\n",
        "\n"
      ],
      "metadata": {
        "id": "ec53Po4HfdhR"
      }
    },
    {
      "cell_type": "markdown",
      "source": [
        "#### **Step 1**"
      ],
      "metadata": {
        "id": "dLmTZhcHg987"
      }
    },
    {
      "cell_type": "markdown",
      "source": [
        "- For each point $x_{i}$ that belongs to the dataset $D$, label it as either core point, border point, or noise point.\n",
        "\n",
        "How can this be done?\n",
        "- We can do this by using the concept of **Range Queries** which is popularly used in databases community\n",
        "- We define this query as: $RangeQuery(D, x_{i}, eps)$\n",
        "- The query tells how many points in the dataset $D$ are withing the radius of $eps$\n",
        "\n",
        "- Time complexity of this step would be $O(n * logN)$\n",
        "<img src='https://drive.google.com/uc?id=18qdGD7UnCkEEziHQDdgSBwJR9JunrP5x'>"
      ],
      "metadata": {
        "id": "kf7qXlmnfdew"
      }
    },
    {
      "cell_type": "markdown",
      "source": [
        "#### **Step 2**"
      ],
      "metadata": {
        "id": "i9_kwCBqfdcf"
      }
    },
    {
      "cell_type": "markdown",
      "source": [
        "- Remove all the noise points from the dataset\n",
        "- Time complexity of this step would be $O(n)$\n",
        "\n",
        "This is basically a noise removal step\n"
      ],
      "metadata": {
        "id": "Exb1JlAFfdZf"
      }
    },
    {
      "cell_type": "markdown",
      "source": [
        "#### **Step 3**"
      ],
      "metadata": {
        "id": "r-1jmSscfdV0"
      }
    },
    {
      "cell_type": "markdown",
      "source": [
        "This step is where things get really interesting. Let's see the 3$^{rd}$ step.\n",
        "\n",
        "- For each core point $P$ that is not yet assigned to any clustered:\n",
        "  - create a new cluster with point $P$\n",
        "  - Add all points that are density connected to point $P$, to the $P$'s cluster\n",
        "\n",
        "Let's understand this with an example\n",
        "\n",
        "- Consider a core point $P$ and there are three core points $P_{1}, P_{2}$ and $P_{1}$ which are density connected.\n",
        "\n",
        "- Then, we group all the three points in the cluster of point $P$\n",
        "\n",
        "- Time complexity of this step would be $O(n * logN)$\n",
        "\n",
        "<img src='https://drive.google.com/uc?id=17i1vcBN7q5rpNxOHDyGStmfrelx9Yy4D'>"
      ],
      "metadata": {
        "id": "v0iJvgfRfdTV"
      }
    },
    {
      "cell_type": "markdown",
      "source": [
        "So, we've dealt with noise points and core points. What about border points?\n",
        "Lets see how DBSCAN deals with border points"
      ],
      "metadata": {
        "id": "pkwK53cX0Fdy"
      }
    },
    {
      "cell_type": "markdown",
      "source": [
        "#### **Step 4**"
      ],
      "metadata": {
        "id": "VboIUhqc0Xhs"
      }
    },
    {
      "cell_type": "markdown",
      "source": [
        "- For each border point, we assign it to the nearest core points' cluster.\n",
        "\n",
        " - For example, if we're having a cluster having core points $P_{1}, P_{2}.... P_{9}$, and a border point P_{10} which is near the cluster.\n",
        "\n",
        "  -\n",
        "  We merge border point P_{10}, into the cluster of core points $P_{1}, P_{2}.... P_{9}$\n",
        "\n",
        "- Time complexity of this step would be $O(n) * logN$\n",
        "***"
      ],
      "metadata": {
        "id": "CBUDHruP0XfM"
      }
    },
    {
      "cell_type": "markdown",
      "source": [
        "\n",
        "\n",
        "> Play around with Min_Pts and Eps value with different distributions.\n",
        "\n",
        "Link: https://www.naftaliharris.com/blog/visualizing-dbscan-clustering/"
      ],
      "metadata": {
        "id": "bmmLmpCSOwEM"
      }
    },
    {
      "cell_type": "markdown",
      "source": [
        "**Q. So, we studied how DBSCAN works. What now? One thing that you can question about is that what should be the ideal values of $minpts$ and $eps$?**\n",
        "\n",
        " Let's find that out"
      ],
      "metadata": {
        "id": "hg5-8OLC2dFb"
      }
    },
    {
      "cell_type": "markdown",
      "source": [
        "## **Adjusting Min Points**"
      ],
      "metadata": {
        "id": "VsrMo4QA2dBT"
      }
    },
    {
      "cell_type": "markdown",
      "source": [
        "1.  So there are some rules of thumb that people have made over the past years, which typically works well. They are:\n",
        "  - value of $minpts$ should be greater than or equal to $d+1$; where $d$ is dimensionality of the data\n",
        "  - lot of libraries use the value of $minpts$ approximately equal to $2 * d$\n",
        "\n",
        "The points mentioned above are typically rules of thumb and these are used because they tend to work fairly good in most of the cases\n",
        "\n",
        "2. Given an epsilon value, if the dataset is noisy, we pick larger $minpts$\n",
        "\n",
        "<img src='https://drive.google.com/uc?id=1GG8CsjKWMsfonj35rfxUbpHpc-L6f9QF'>"
      ],
      "metadata": {
        "id": "ZZShq-Hk2c7M"
      }
    },
    {
      "cell_type": "markdown",
      "source": [
        "## **Adjusting Epsilon Value**"
      ],
      "metadata": {
        "id": "j73Cz8xDAvDl"
      }
    },
    {
      "cell_type": "markdown",
      "source": [
        "> Q. **Now**, how to tune $eps$ value?\n",
        "\n",
        "Let's assume we've fixed the value of $minpts = 4$.\n",
        "\n",
        "Then, we'll perfrom a bunch of steps:\n",
        "\n",
        " - Step 1:\n",
        "  - for every point $x_{i}$ in dataset, we compute a distance $d_{i}$.\n",
        "  - $d_{i}$ refers to the distance from $x_{i}$ to $x_{i}$'s 4$^{th}$ nearest neighbor (because we've set $minpts$ = 4)\n",
        "\n",
        "- Step 2:\n",
        "  - Sort the values of $d_{i}$'s and plot them. You'll notice that the distance will increase graudally and then suddenlly, at a certain point, the value of distance will get boosted\n",
        "  - So, the index at which the value of $d_{i}$ distance got boosted will be used as the value of $eps$\n",
        "  - The indices having higher values of $d_{i}$'s will be outliers\n",
        "\n",
        "<img src='https://drive.google.com/uc?id=1kkZ5b-CQCqUt6PyCTwIHap7EiDNZPfM1'>\n",
        "<img src='https://drive.google.com/uc?id=1p2h31o66gwI63omdbqulKl2rht8K6z3T'>\n",
        "\n",
        "***"
      ],
      "metadata": {
        "id": "fks0TL8h2c4S"
      }
    },
    {
      "cell_type": "markdown",
      "source": [
        "## **Advantages & Disadvantages of DBSCAN**"
      ],
      "metadata": {
        "id": "lWo2iBEZHLfp"
      }
    },
    {
      "cell_type": "markdown",
      "source": [
        "#### **When does DBSCAN work well?**\n",
        "\n",
        "- It’s resistant to noise\n",
        "- Can handle clusters of different shapes and sizes.\n",
        "\n",
        "<img src='https://drive.google.com/uc?id=1hq2IUn81_PVwKcFlrw070KrrvH_4NksC'>\n",
        "\n",
        "- It doesn’t require one to specify the number of clusters a priori.\n",
        "- It requires only two parameters: MinPts and Epsilon.\n",
        "- It is designed for use with databases as it’s created by the database\n",
        "community.\n",
        "\n"
      ],
      "metadata": {
        "id": "aVwAhq1d0Faz"
      }
    },
    {
      "cell_type": "markdown",
      "source": [
        "#### Limitations of DBSCAN:\n",
        "\n",
        "- Even a small change in the hyperparameters, we can get a completely different type of clusters. So, it’s quite sensitive to the choice of hyperparameters.\n",
        "\n",
        "<img src='https://drive.google.com/uc?id=1fRqrU4-9tdsDI3p0FcOK70q2Iyf39za6'>\n",
        "\n",
        "- Cannot handle varying densities and data with higher dimensions.\n",
        "\n",
        "<img src='https://drive.google.com/uc?id=1v_Xy3V-wzpYk9dKjnxtpTBWb86nlDuS0'>\n",
        "\n",
        "***"
      ],
      "metadata": {
        "id": "skZvWWNgK8z_"
      }
    },
    {
      "cell_type": "markdown",
      "source": [
        "## DBSCAN Implementation\n",
        "\n",
        "- The beauty of using DBSCAN is that it can separate outliers (noise points) as well as it can perform clustering (core and border points).\n",
        "\n",
        "- In this case study, we'll see an example of how DBSCAN can perform clustering in the presense of outliers in data.\n",
        "\n",
        "#### **How do we do Customer Grouping (Segmentation) if our customers are arbitrarily distributed with outliers in the data?**\n",
        "\n",
        "- That is, some customers (data points) act as outliers in the data.\n",
        "\n",
        "- In order to understand this, we'll use a Wholesale Customer Data.\n",
        "\n"
      ],
      "metadata": {
        "id": "XYm-zzCzy2Tz"
      }
    },
    {
      "cell_type": "markdown",
      "source": [
        "#### **Goal**\n",
        "- For our case, with DBSCAN, we want to identify this main cluster of customers.\n",
        "- But we also want to flag customers with more unusual annual purchasing habits."
      ],
      "metadata": {
        "id": "DuwnC7pAzY5p"
      }
    },
    {
      "cell_type": "markdown",
      "source": [
        "#### **Scaling the Features**\n",
        "\n",
        "- Because the values of the data are in the thousands, we are going to normalize each attribute by scaling it to 0 mean and unit variance.\n",
        "- This helps to keep the inter-relationships between the features intact so that a small change in one feature would reflect in the other."
      ],
      "metadata": {
        "id": "vssyW43AzaZn"
      }
    },
    {
      "cell_type": "code",
      "source": [
        "df = df[['Grocery', 'Milk']]\n",
        "std_scaler = StandardScaler().fit(df)\n",
        "std_df = std_scaler.transform(df)"
      ],
      "metadata": {
        "id": "JIWarepxzOBi"
      },
      "execution_count": 7,
      "outputs": []
    },
    {
      "cell_type": "markdown",
      "source": [
        "#### **Fit and Transform using DBSCAN**"
      ],
      "metadata": {
        "id": "-8ri4L6TzfWz"
      }
    },
    {
      "cell_type": "code",
      "source": [
        "# https://scikit-learn.org/stable/modules/generated/sklearn.cluster.DBSCAN.html\n",
        "dbsc = DBSCAN(eps = .5, min_samples = 15).fit(std_df)"
      ],
      "metadata": {
        "id": "ZdlR76sRzdYz"
      },
      "execution_count": 8,
      "outputs": []
    },
    {
      "cell_type": "code",
      "source": [
        "#\"Noisy samples are given the label -1.\" --> Reference\n",
        "labels = dbsc.labels_\n",
        "labels"
      ],
      "metadata": {
        "colab": {
          "base_uri": "https://localhost:8080/"
        },
        "id": "UD6T2X5gzhXa",
        "outputId": "231aebb7-c8c3-4d1b-953d-9bd67ccd6d4c"
      },
      "execution_count": 9,
      "outputs": [
        {
          "output_type": "execute_result",
          "data": {
            "text/plain": [
              "array([ 0,  0,  0,  0,  0,  0,  0,  0,  0,  0,  0,  0,  0,  0,  0,  0,  0,\n",
              "        0,  0,  0,  0,  0,  0, -1,  0,  0,  0,  0, -1,  0,  0,  0,  0,  0,\n",
              "        0,  0,  0,  0,  0,  0,  0,  0,  0,  0,  0, -1,  0, -1,  0, -1,  0,\n",
              "        0,  0,  0,  0,  0, -1,  0,  0,  0,  0, -1,  0,  0,  0, -1,  0,  0,\n",
              "        0,  0,  0, -1,  0,  0,  0,  0,  0, -1,  0,  0,  0,  0,  0,  0,  0,\n",
              "       -1, -1,  0,  0,  0,  0,  0, -1,  0,  0,  0,  0,  0,  0,  0,  0,  0,\n",
              "        0,  0,  0,  0,  0,  0,  0, -1,  0,  0,  0,  0,  0,  0,  0,  0,  0,\n",
              "        0,  0,  0,  0,  0,  0,  0,  0,  0,  0,  0,  0,  0,  0,  0,  0,  0,\n",
              "        0,  0,  0,  0,  0,  0,  0,  0,  0, -1,  0,  0,  0,  0,  0,  0,  0,\n",
              "        0,  0,  0,  0,  0,  0,  0,  0,  0,  0, -1,  0,  0,  0,  0,  0,  0,\n",
              "        0, -1,  0,  0,  0,  0,  0,  0,  0,  0,  0, -1,  0, -1,  0,  0,  0,\n",
              "        0,  0,  0,  0,  0,  0,  0,  0,  0,  0,  0,  0,  0,  0,  0,  0,  0,\n",
              "        0,  0,  0,  0,  0,  0,  0, -1,  0,  0,  0,  0, -1,  0,  0,  0,  0,\n",
              "        0,  0,  0,  0,  0,  0,  0,  0,  0,  0,  0,  0,  0,  0,  0,  0,  0,\n",
              "        0,  0,  0,  0,  0,  0,  0,  0,  0,  0,  0,  0,  0, -1,  0,  0, -1,\n",
              "        0,  0,  0,  0,  0,  0,  0,  0,  0,  0, -1,  0,  0,  0,  0,  0,  0,\n",
              "        0,  0,  0,  0,  0,  0,  0,  0,  0,  0,  0,  0,  0,  0,  0,  0,  0,\n",
              "        0,  0,  0,  0,  0,  0,  0,  0,  0,  0,  0,  0,  0,  0,  0, -1,  0,\n",
              "        0,  0,  0, -1,  0,  0,  0,  0,  0,  0,  0,  0,  0, -1,  0,  0,  0,\n",
              "        0,  0, -1,  0,  0,  0,  0,  0, -1,  0, -1,  0,  0,  0,  0,  0,  0,\n",
              "        0,  0,  0, -1,  0,  0,  0,  0,  0,  0,  0,  0,  0,  0,  0,  0,  0,\n",
              "       -1, -1,  0,  0,  0,  0,  0,  0,  0,  0,  0,  0,  0,  0,  0,  0,  0,\n",
              "        0,  0,  0,  0,  0,  0,  0,  0,  0,  0, -1,  0,  0,  0,  0,  0,  0,\n",
              "        0,  0,  0,  0,  0,  0,  0,  0,  0,  0,  0,  0,  0,  0,  0,  0,  0,\n",
              "        0,  0,  0,  0,  0,  0,  0,  0,  0,  0,  0,  0,  0,  0,  0,  0,  0,\n",
              "        0,  0, -1,  0,  0,  0,  0,  0,  0,  0,  0,  0, -1,  0,  0])"
            ]
          },
          "metadata": {},
          "execution_count": 9
        }
      ]
    },
    {
      "cell_type": "code",
      "source": [
        "out_df = df.copy()\n",
        "out_df['label'] = dbsc.labels_"
      ],
      "metadata": {
        "id": "2n7_d75Izi2U"
      },
      "execution_count": 10,
      "outputs": []
    },
    {
      "cell_type": "code",
      "source": [
        "out_df['label'].value_counts()"
      ],
      "metadata": {
        "colab": {
          "base_uri": "https://localhost:8080/"
        },
        "id": "eHXLswlUzl3C",
        "outputId": "366291ec-706c-4e20-eec7-50ffa2792560"
      },
      "execution_count": 11,
      "outputs": [
        {
          "output_type": "execute_result",
          "data": {
            "text/plain": [
              " 0    404\n",
              "-1     36\n",
              "Name: label, dtype: int64"
            ]
          },
          "metadata": {},
          "execution_count": 11
        }
      ]
    },
    {
      "cell_type": "code",
      "source": [
        "plt.scatter(out_df['Grocery'], out_df['Milk'], s=40, c=out_df['label'])"
      ],
      "metadata": {
        "colab": {
          "base_uri": "https://localhost:8080/",
          "height": 1000
        },
        "id": "TpY-XzJZznHO",
        "outputId": "c6f11881-1d2d-409e-bc84-ba4ab3dcf0b0"
      },
      "execution_count": 12,
      "outputs": [
        {
          "output_type": "execute_result",
          "data": {
            "text/plain": [
              "<matplotlib.collections.PathCollection at 0x7d12d31e19f0>"
            ]
          },
          "metadata": {},
          "execution_count": 12
        },
        {
          "output_type": "display_data",
          "data": {
            "text/plain": [
              "<Figure size 1600x1200 with 1 Axes>"
            ],
            "image/png": "[encoded data removed]"
          },
          "metadata": {}
        }
      ]
    },
    {
      "cell_type": "markdown",
      "source": [
        "#### **What insights can we draw from here?**\n",
        "\n",
        "- Outliers are easily detected using DBSCAN, which can either be the premium segment customers, or they can just be customers with abnormal purchases.\n",
        "\n",
        "- Most of the customers share the same behaviour (404 out of 440)."
      ],
      "metadata": {
        "id": "mQjezHtCzrsS"
      }
    },
    {
      "cell_type": "markdown",
      "source": [
        "#### **Comparing with K-Means**\n",
        "\n",
        "Let's now compare the results with K-Means' result"
      ],
      "metadata": {
        "id": "MWrhaVFSzuCR"
      }
    },
    {
      "cell_type": "code",
      "source": [
        "plt.scatter(clusters['Grocery'], clusters['Milk'], s=40, c=clusters['label'])"
      ],
      "metadata": {
        "colab": {
          "base_uri": "https://localhost:8080/",
          "height": 717
        },
        "id": "qvnlgWWhzx-F",
        "outputId": "7851c501-dff8-4e6d-daf2-7f66a3984f26"
      },
      "execution_count": null,
      "outputs": [
        {
          "output_type": "execute_result",
          "data": {
            "text/plain": [
              "<matplotlib.collections.PathCollection at 0x7fc2d293b390>"
            ]
          },
          "metadata": {},
          "execution_count": 43
        },
        {
          "output_type": "display_data",
          "data": {
            "text/plain": [
              "<Figure size 1152x864 with 1 Axes>"
            ],
            "image/png": "[encoded data removed]"
          },
          "metadata": {
            "needs_background": "light"
          }
        }
      ]
    },
    {
      "cell_type": "markdown",
      "source": [
        "- As we can see, **K-Means formed 2 clusters with all the outliers included in one of the clusters.** Finding outliers or noise with K-Means is generally not possible because every point is grouped into a cluster.\n",
        "\n",
        "- Whereas, **DBSCAN identified and separated out the outlier points**."
      ],
      "metadata": {
        "id": "Vy1MnRvzz01T"
      }
    },
    {
      "cell_type": "markdown",
      "source": [
        "## **Introduction to Anomaly/Novelty/Outlier Detection**"
      ],
      "metadata": {
        "id": "x1J9UFhSkR9S"
      }
    },
    {
      "cell_type": "markdown",
      "source": [
        "**What is an Anomaly?**\n",
        "\n",
        "- Anomaly is nothing but synonymous of an **outlier**. These terms are often interchanged, and maybe called as **Novelty** depending on the context.\n",
        "\n",
        "**Q. What's the difference?**\n",
        "\n",
        "- **Anomaly** means something which is not a part of the normal behaviour\n",
        "- **Novelty** means something unique, or something that you haven't seen it before(novel)"
      ],
      "metadata": {
        "id": "BGXFBcZ1kR68"
      }
    },
    {
      "cell_type": "markdown",
      "source": [
        "## **Introducing Business Case**"
      ],
      "metadata": {
        "id": "l01V-sX5WZxb"
      }
    },
    {
      "cell_type": "markdown",
      "source": [
        "- Recall your Feature Engineering Classes back in ML-1 where you worked on Cars-24 Dataset.\n",
        "\n",
        "- Now, you're aware that automobile industry is making a tranisition from **fuel (pertrol/diesel) based cars** to **Electric Cars (EVs)** because of high mileage given by EVs and other environmental concerns.\n",
        "\n",
        "- As they are new in the industry, number of EVs is significantly smaller than the fuel-based cars.\n",
        "\n",
        "- For used cars, one of the most important features that a buyer cares about is the mileage. We extracted two features namely '**Mileage**' and '**Price**' from the revised and newer data.\n",
        "\n",
        "- We are using only these two features because these are the two most important things that buyer really cares about when purchasing a used car. In addition, for visual purposes, 2D data is easy to visualise which can help in understanding the algorithms that we are going to study in this lecture.\n",
        "\n",
        "- Our task is to identify any novelties/anomalies/outliers that might be present in the data. Let's have a look at the data."
      ],
      "metadata": {
        "id": "HZ3sfwzcWe-1"
      }
    },
    {
      "cell_type": "code",
      "source": [
        "!gdown 1c6cjIULb3-fjyaVITdui_AFcKMz_lxlg\n",
        "\n"
      ],
      "metadata": {
        "colab": {
          "base_uri": "https://localhost:8080/"
        },
        "id": "L5ePdDvme5Wv",
        "outputId": "be6c5496-cc2e-43b8-edcb-7258f1171bce"
      },
      "execution_count": null,
      "outputs": [
        {
          "output_type": "stream",
          "name": "stdout",
          "text": [
            "Downloading...\n",
            "From: https://drive.google.com/uc?id=1c6cjIULb3-fjyaVITdui_AFcKMz_lxlg\n",
            "To: /content/AnomalyDetection.csv\n",
            "\r  0% 0.00/33.0k [00:00<?, ?B/s]\r100% 33.0k/33.0k [00:00<00:00, 61.9MB/s]\n"
          ]
        }
      ]
    },
    {
      "cell_type": "code",
      "source": [
        "import numpy as np\n",
        "import pandas as pd\n",
        "import matplotlib.pyplot as plt\n",
        "import seaborn as sns\n",
        "plt.rcParams[\"figure.figsize\"] = (12,8)"
      ],
      "metadata": {
        "id": "TmM2XqhufXlf"
      },
      "execution_count": null,
      "outputs": []
    },
    {
      "cell_type": "code",
      "source": [
        "df = pd.read_csv('/content/Data: AnomalyDetection.csv')\n",
        "df.head()"
      ],
      "metadata": {
        "colab": {
          "base_uri": "https://localhost:8080/",
          "height": 206
        },
        "id": "o0ofts1Yfdsm",
        "outputId": "64bc8f64-cfd7-47bc-957c-9111b7e914d5"
      },
      "execution_count": null,
      "outputs": [
        {
          "output_type": "execute_result",
          "data": {
            "text/plain": [
              "     Mileage      Price\n",
              "0  54.282388  67.967708\n",
              "1  17.331911  70.023637\n",
              "2  36.548113  68.080455\n",
              "3  42.567541  71.058755\n",
              "4   5.608853  57.822432"
            ],
            "text/html": [
              "\n",
              "  <div id=\"df-e3561ed0-32b2-4041-ab78-33081d506a88\" class=\"colab-df-container\">\n",
              "    <div>\n",
              "<style scoped>\n",
              "    .dataframe tbody tr th:only-of-type {\n",
              "        vertical-align: middle;\n",
              "    }\n",
              "\n",
              "    .dataframe tbody tr th {\n",
              "        vertical-align: top;\n",
              "    }\n",
              "\n",
              "    .dataframe thead th {\n",
              "        text-align: right;\n",
              "    }\n",
              "</style>\n",
              "<table border=\"1\" class=\"dataframe\">\n",
              "  <thead>\n",
              "    <tr style=\"text-align: right;\">\n",
              "      <th></th>\n",
              "      <th>Mileage</th>\n",
              "      <th>Price</th>\n",
              "    </tr>\n",
              "  </thead>\n",
              "  <tbody>\n",
              "    <tr>\n",
              "      <th>0</th>\n",
              "      <td>54.282388</td>\n",
              "      <td>67.967708</td>\n",
              "    </tr>\n",
              "    <tr>\n",
              "      <th>1</th>\n",
              "      <td>17.331911</td>\n",
              "      <td>70.023637</td>\n",
              "    </tr>\n",
              "    <tr>\n",
              "      <th>2</th>\n",
              "      <td>36.548113</td>\n",
              "      <td>68.080455</td>\n",
              "    </tr>\n",
              "    <tr>\n",
              "      <th>3</th>\n",
              "      <td>42.567541</td>\n",
              "      <td>71.058755</td>\n",
              "    </tr>\n",
              "    <tr>\n",
              "      <th>4</th>\n",
              "      <td>5.608853</td>\n",
              "      <td>57.822432</td>\n",
              "    </tr>\n",
              "  </tbody>\n",
              "</table>\n",
              "</div>\n",
              "    <div class=\"colab-df-buttons\">\n",
              "\n",
              "  <div class=\"colab-df-container\">\n",
              "    <button class=\"colab-df-convert\" onclick=\"convertToInteractive('df-e3561ed0-32b2-4041-ab78-33081d506a88')\"\n",
              "            title=\"Convert this dataframe to an interactive table.\"\n",
              "            style=\"display:none;\">\n",
              "\n",
              "  <svg xmlns=\"http://www.w3.org/2000/svg\" height=\"24px\" viewBox=\"0 -960 960 960\">\n",
              "    <path d=\"M120-120v-720h720v720H120Zm60-500h600v-160H180v160Zm220 220h160v-160H400v160Zm0 220h160v-160H400v160ZM180-400h160v-160H180v160Zm440 0h160v-160H620v160ZM180-180h160v-160H180v160Zm440 0h160v-160H620v160Z\"/>\n",
              "  </svg>\n",
              "    </button>\n",
              "\n",
              "  <style>\n",
              "    .colab-df-container {\n",
              "      display:flex;\n",
              "      gap: 12px;\n",
              "    }\n",
              "\n",
              "    .colab-df-convert {\n",
              "      background-color: #E8F0FE;\n",
              "      border: none;\n",
              "      border-radius: 50%;\n",
              "      cursor: pointer;\n",
              "      display: none;\n",
              "      fill: #1967D2;\n",
              "      height: 32px;\n",
              "      padding: 0 0 0 0;\n",
              "      width: 32px;\n",
              "    }\n",
              "\n",
              "    .colab-df-convert:hover {\n",
              "      background-color: #E2EBFA;\n",
              "      box-shadow: 0px 1px 2px rgba(60, 64, 67, 0.3), 0px 1px 3px 1px rgba(60, 64, 67, 0.15);\n",
              "      fill: #174EA6;\n",
              "    }\n",
              "\n",
              "    .colab-df-buttons div {\n",
              "      margin-bottom: 4px;\n",
              "    }\n",
              "\n",
              "    [theme=dark] .colab-df-convert {\n",
              "      background-color: #3B4455;\n",
              "      fill: #D2E3FC;\n",
              "    }\n",
              "\n",
              "    [theme=dark] .colab-df-convert:hover {\n",
              "      background-color: #434B5C;\n",
              "      box-shadow: 0px 1px 3px 1px rgba(0, 0, 0, 0.15);\n",
              "      filter: drop-shadow(0px 1px 2px rgba(0, 0, 0, 0.3));\n",
              "      fill: #FFFFFF;\n",
              "    }\n",
              "  </style>\n",
              "\n",
              "    <script>\n",
              "      const buttonEl =\n",
              "        document.querySelector('#df-e3561ed0-32b2-4041-ab78-33081d506a88 button.colab-df-convert');\n",
              "      buttonEl.style.display =\n",
              "        google.colab.kernel.accessAllowed ? 'block' : 'none';\n",
              "\n",
              "      async function convertToInteractive(key) {\n",
              "        const element = document.querySelector('#df-e3561ed0-32b2-4041-ab78-33081d506a88');\n",
              "        const dataTable =\n",
              "          await google.colab.kernel.invokeFunction('convertToInteractive',\n",
              "                                                    [key], {});\n",
              "        if (!dataTable) return;\n",
              "\n",
              "        const docLinkHtml = 'Like what you see? Visit the ' +\n",
              "          '<a target=\"_blank\" href=https://colab.research.google.com/notebooks/data_table.ipynb>data table notebook</a>'\n",
              "          + ' to learn more about interactive tables.';\n",
              "        element.innerHTML = '';\n",
              "        dataTable['output_type'] = 'display_data';\n",
              "        await google.colab.output.renderOutput(dataTable, element);\n",
              "        const docLink = document.createElement('div');\n",
              "        docLink.innerHTML = docLinkHtml;\n",
              "        element.appendChild(docLink);\n",
              "      }\n",
              "    </script>\n",
              "  </div>\n",
              "\n",
              "\n",
              "<div id=\"df-b530aea4-a23c-4292-b2db-f7240acd0a1b\">\n",
              "  <button class=\"colab-df-quickchart\" onclick=\"quickchart('df-b530aea4-a23c-4292-b2db-f7240acd0a1b')\"\n",
              "            title=\"Suggest charts.\"\n",
              "            style=\"display:none;\">\n",
              "\n",
              "<svg xmlns=\"http://www.w3.org/2000/svg\" height=\"24px\"viewBox=\"0 0 24 24\"\n",
              "     width=\"24px\">\n",
              "    <g>\n",
              "        <path d=\"M19 3H5c-1.1 0-2 .9-2 2v14c0 1.1.9 2 2 2h14c1.1 0 2-.9 2-2V5c0-1.1-.9-2-2-2zM9 17H7v-7h2v7zm4 0h-2V7h2v10zm4 0h-2v-4h2v4z\"/>\n",
              "    </g>\n",
              "</svg>\n",
              "  </button>\n",
              "\n",
              "<style>\n",
              "  .colab-df-quickchart {\n",
              "      --bg-color: #E8F0FE;\n",
              "      --fill-color: #1967D2;\n",
              "      --hover-bg-color: #E2EBFA;\n",
              "      --hover-fill-color: #174EA6;\n",
              "      --disabled-fill-color: #AAA;\n",
              "      --disabled-bg-color: #DDD;\n",
              "  }\n",
              "\n",
              "  [theme=dark] .colab-df-quickchart {\n",
              "      --bg-color: #3B4455;\n",
              "      --fill-color: #D2E3FC;\n",
              "      --hover-bg-color: #434B5C;\n",
              "      --hover-fill-color: #FFFFFF;\n",
              "      --disabled-bg-color: #3B4455;\n",
              "      --disabled-fill-color: #666;\n",
              "  }\n",
              "\n",
              "  .colab-df-quickchart {\n",
              "    background-color: var(--bg-color);\n",
              "    border: none;\n",
              "    border-radius: 50%;\n",
              "    cursor: pointer;\n",
              "    display: none;\n",
              "    fill: var(--fill-color);\n",
              "    height: 32px;\n",
              "    padding: 0;\n",
              "    width: 32px;\n",
              "  }\n",
              "\n",
              "  .colab-df-quickchart:hover {\n",
              "    background-color: var(--hover-bg-color);\n",
              "    box-shadow: 0 1px 2px rgba(60, 64, 67, 0.3), 0 1px 3px 1px rgba(60, 64, 67, 0.15);\n",
              "    fill: var(--button-hover-fill-color);\n",
              "  }\n",
              "\n",
              "  .colab-df-quickchart-complete:disabled,\n",
              "  .colab-df-quickchart-complete:disabled:hover {\n",
              "    background-color: var(--disabled-bg-color);\n",
              "    fill: var(--disabled-fill-color);\n",
              "    box-shadow: none;\n",
              "  }\n",
              "\n",
              "  .colab-df-spinner {\n",
              "    border: 2px solid var(--fill-color);\n",
              "    border-color: transparent;\n",
              "    border-bottom-color: var(--fill-color);\n",
              "    animation:\n",
              "      spin 1s steps(1) infinite;\n",
              "  }\n",
              "\n",
              "  @keyframes spin {\n",
              "    0% {\n",
              "      border-color: transparent;\n",
              "      border-bottom-color: var(--fill-color);\n",
              "      border-left-color: var(--fill-color);\n",
              "    }\n",
              "    20% {\n",
              "      border-color: transparent;\n",
              "      border-left-color: var(--fill-color);\n",
              "      border-top-color: var(--fill-color);\n",
              "    }\n",
              "    30% {\n",
              "      border-color: transparent;\n",
              "      border-left-color: var(--fill-color);\n",
              "      border-top-color: var(--fill-color);\n",
              "      border-right-color: var(--fill-color);\n",
              "    }\n",
              "    40% {\n",
              "      border-color: transparent;\n",
              "      border-right-color: var(--fill-color);\n",
              "      border-top-color: var(--fill-color);\n",
              "    }\n",
              "    60% {\n",
              "      border-color: transparent;\n",
              "      border-right-color: var(--fill-color);\n",
              "    }\n",
              "    80% {\n",
              "      border-color: transparent;\n",
              "      border-right-color: var(--fill-color);\n",
              "      border-bottom-color: var(--fill-color);\n",
              "    }\n",
              "    90% {\n",
              "      border-color: transparent;\n",
              "      border-bottom-color: var(--fill-color);\n",
              "    }\n",
              "  }\n",
              "</style>\n",
              "\n",
              "  <script>\n",
              "    async function quickchart(key) {\n",
              "      const quickchartButtonEl =\n",
              "        document.querySelector('#' + key + ' button');\n",
              "      quickchartButtonEl.disabled = true;  // To prevent multiple clicks.\n",
              "      quickchartButtonEl.classList.add('colab-df-spinner');\n",
              "      try {\n",
              "        const charts = await google.colab.kernel.invokeFunction(\n",
              "            'suggestCharts', [key], {});\n",
              "      } catch (error) {\n",
              "        console.error('Error during call to suggestCharts:', error);\n",
              "      }\n",
              "      quickchartButtonEl.classList.remove('colab-df-spinner');\n",
              "      quickchartButtonEl.classList.add('colab-df-quickchart-complete');\n",
              "    }\n",
              "    (() => {\n",
              "      let quickchartButtonEl =\n",
              "        document.querySelector('#df-b530aea4-a23c-4292-b2db-f7240acd0a1b button');\n",
              "      quickchartButtonEl.style.display =\n",
              "        google.colab.kernel.accessAllowed ? 'block' : 'none';\n",
              "    })();\n",
              "  </script>\n",
              "</div>\n",
              "    </div>\n",
              "  </div>\n"
            ]
          },
          "metadata": {},
          "execution_count": 10
        }
      ]
    },
    {
      "cell_type": "code",
      "source": [
        "df.describe()"
      ],
      "metadata": {
        "colab": {
          "base_uri": "https://localhost:8080/",
          "height": 300
        },
        "id": "yzJGhVQYhBeI",
        "outputId": "e90e8018-c2f7-4d92-dc6a-a4b6586cf884"
      },
      "execution_count": null,
      "outputs": [
        {
          "output_type": "execute_result",
          "data": {
            "text/plain": [
              "          Mileage       Price\n",
              "count  908.000000  908.000000\n",
              "mean    45.869736   77.555036\n",
              "std     30.598219   19.275677\n",
              "min      1.398964   20.000000\n",
              "25%     25.415487   64.435773\n",
              "50%     34.599453   73.550501\n",
              "75%     49.862529   88.939217\n",
              "max    128.604249  141.201890"
            ],
            "text/html": [
              "\n",
              "  <div id=\"df-8d565f92-6bd8-4a59-8a52-6459ce09e055\">\n",
              "    <div class=\"colab-df-container\">\n",
              "      <div>\n",
              "<style scoped>\n",
              "    .dataframe tbody tr th:only-of-type {\n",
              "        vertical-align: middle;\n",
              "    }\n",
              "\n",
              "    .dataframe tbody tr th {\n",
              "        vertical-align: top;\n",
              "    }\n",
              "\n",
              "    .dataframe thead th {\n",
              "        text-align: right;\n",
              "    }\n",
              "</style>\n",
              "<table border=\"1\" class=\"dataframe\">\n",
              "  <thead>\n",
              "    <tr style=\"text-align: right;\">\n",
              "      <th></th>\n",
              "      <th>Mileage</th>\n",
              "      <th>Price</th>\n",
              "    </tr>\n",
              "  </thead>\n",
              "  <tbody>\n",
              "    <tr>\n",
              "      <th>count</th>\n",
              "      <td>908.000000</td>\n",
              "      <td>908.000000</td>\n",
              "    </tr>\n",
              "    <tr>\n",
              "      <th>mean</th>\n",
              "      <td>45.869736</td>\n",
              "      <td>77.555036</td>\n",
              "    </tr>\n",
              "    <tr>\n",
              "      <th>std</th>\n",
              "      <td>30.598219</td>\n",
              "      <td>19.275677</td>\n",
              "    </tr>\n",
              "    <tr>\n",
              "      <th>min</th>\n",
              "      <td>1.398964</td>\n",
              "      <td>20.000000</td>\n",
              "    </tr>\n",
              "    <tr>\n",
              "      <th>25%</th>\n",
              "      <td>25.415487</td>\n",
              "      <td>64.435773</td>\n",
              "    </tr>\n",
              "    <tr>\n",
              "      <th>50%</th>\n",
              "      <td>34.599453</td>\n",
              "      <td>73.550501</td>\n",
              "    </tr>\n",
              "    <tr>\n",
              "      <th>75%</th>\n",
              "      <td>49.862529</td>\n",
              "      <td>88.939217</td>\n",
              "    </tr>\n",
              "    <tr>\n",
              "      <th>max</th>\n",
              "      <td>128.604249</td>\n",
              "      <td>141.201890</td>\n",
              "    </tr>\n",
              "  </tbody>\n",
              "</table>\n",
              "</div>\n",
              "      <button class=\"colab-df-convert\" onclick=\"convertToInteractive('df-8d565f92-6bd8-4a59-8a52-6459ce09e055')\"\n",
              "              title=\"Convert this dataframe to an interactive table.\"\n",
              "              style=\"display:none;\">\n",
              "        \n",
              "  <svg xmlns=\"http://www.w3.org/2000/svg\" height=\"24px\"viewBox=\"0 0 24 24\"\n",
              "       width=\"24px\">\n",
              "    <path d=\"M0 0h24v24H0V0z\" fill=\"none\"/>\n",
              "    <path d=\"M18.56 5.44l.94 2.06.94-2.06 2.06-.94-2.06-.94-.94-2.06-.94 2.06-2.06.94zm-11 1L8.5 8.5l.94-2.06 2.06-.94-2.06-.94L8.5 2.5l-.94 2.06-2.06.94zm10 10l.94 2.06.94-2.06 2.06-.94-2.06-.94-.94-2.06-.94 2.06-2.06.94z\"/><path d=\"M17.41 7.96l-1.37-1.37c-.4-.4-.92-.59-1.43-.59-.52 0-1.04.2-1.43.59L10.3 9.45l-7.72 7.72c-.78.78-.78 2.05 0 2.83L4 21.41c.39.39.9.59 1.41.59.51 0 1.02-.2 1.41-.59l7.78-7.78 2.81-2.81c.8-.78.8-2.07 0-2.86zM5.41 20L4 18.59l7.72-7.72 1.47 1.35L5.41 20z\"/>\n",
              "  </svg>\n",
              "      </button>\n",
              "      \n",
              "  <style>\n",
              "    .colab-df-container {\n",
              "      display:flex;\n",
              "      flex-wrap:wrap;\n",
              "      gap: 12px;\n",
              "    }\n",
              "\n",
              "    .colab-df-convert {\n",
              "      background-color: #E8F0FE;\n",
              "      border: none;\n",
              "      border-radius: 50%;\n",
              "      cursor: pointer;\n",
              "      display: none;\n",
              "      fill: #1967D2;\n",
              "      height: 32px;\n",
              "      padding: 0 0 0 0;\n",
              "      width: 32px;\n",
              "    }\n",
              "\n",
              "    .colab-df-convert:hover {\n",
              "      background-color: #E2EBFA;\n",
              "      box-shadow: 0px 1px 2px rgba(60, 64, 67, 0.3), 0px 1px 3px 1px rgba(60, 64, 67, 0.15);\n",
              "      fill: #174EA6;\n",
              "    }\n",
              "\n",
              "    [theme=dark] .colab-df-convert {\n",
              "      background-color: #3B4455;\n",
              "      fill: #D2E3FC;\n",
              "    }\n",
              "\n",
              "    [theme=dark] .colab-df-convert:hover {\n",
              "      background-color: #434B5C;\n",
              "      box-shadow: 0px 1px 3px 1px rgba(0, 0, 0, 0.15);\n",
              "      filter: drop-shadow(0px 1px 2px rgba(0, 0, 0, 0.3));\n",
              "      fill: #FFFFFF;\n",
              "    }\n",
              "  </style>\n",
              "\n",
              "      <script>\n",
              "        const buttonEl =\n",
              "          document.querySelector('#df-8d565f92-6bd8-4a59-8a52-6459ce09e055 button.colab-df-convert');\n",
              "        buttonEl.style.display =\n",
              "          google.colab.kernel.accessAllowed ? 'block' : 'none';\n",
              "\n",
              "        async function convertToInteractive(key) {\n",
              "          const element = document.querySelector('#df-8d565f92-6bd8-4a59-8a52-6459ce09e055');\n",
              "          const dataTable =\n",
              "            await google.colab.kernel.invokeFunction('convertToInteractive',\n",
              "                                                     [key], {});\n",
              "          if (!dataTable) return;\n",
              "\n",
              "          const docLinkHtml = 'Like what you see? Visit the ' +\n",
              "            '<a target=\"_blank\" href=https://colab.research.google.com/notebooks/data_table.ipynb>data table notebook</a>'\n",
              "            + ' to learn more about interactive tables.';\n",
              "          element.innerHTML = '';\n",
              "          dataTable['output_type'] = 'display_data';\n",
              "          await google.colab.output.renderOutput(dataTable, element);\n",
              "          const docLink = document.createElement('div');\n",
              "          docLink.innerHTML = docLinkHtml;\n",
              "          element.appendChild(docLink);\n",
              "        }\n",
              "      </script>\n",
              "    </div>\n",
              "  </div>\n",
              "  "
            ]
          },
          "metadata": {},
          "execution_count": 4
        }
      ]
    },
    {
      "cell_type": "markdown",
      "source": [
        "- Notice, something strange here?\n",
        "\n",
        "- Look at the **Min** and **Max** values for both the features.\n",
        "\n",
        "- Lets plot this data on a scatterplot."
      ],
      "metadata": {
        "id": "COFUvntdhNnp"
      }
    },
    {
      "cell_type": "code",
      "source": [
        "plt.scatter(df.Mileage, df.Price)\n",
        "plt.yticks(np.arange(40,160,20))\n",
        "plt.xticks(np.arange(0,160,10))\n",
        "plt.xlabel('Mileage')\n",
        "plt.ylabel('Price')"
      ],
      "metadata": {
        "colab": {
          "base_uri": "https://localhost:8080/",
          "height": 514
        },
        "id": "i3MhMy4zhijs",
        "outputId": "f130962d-8154-413f-f2ca-9c16c50b05e9"
      },
      "execution_count": null,
      "outputs": [
        {
          "output_type": "execute_result",
          "data": {
            "text/plain": [
              "Text(0, 0.5, 'Price')"
            ]
          },
          "metadata": {},
          "execution_count": 5
        },
        {
          "output_type": "display_data",
          "data": {
            "text/plain": [
              "<Figure size 864x576 with 1 Axes>"
            ],
            "image/png": "[encoded data removed]"
          },
          "metadata": {
            "needs_background": "light"
          }
        }
      ]
    }
  ]
}