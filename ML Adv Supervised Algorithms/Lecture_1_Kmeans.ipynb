{
  "nbformat": 4,
  "nbformat_minor": 0,
  "metadata": {
    "colab": {
      "provenance": []
    },
    "kernelspec": {
      "name": "python3",
      "display_name": "Python 3"
    },
    "language_info": {
      "name": "python"
    }
  },
  "cells": [
    {
      "cell_type": "markdown",
      "source": [
        "## Content\n",
        "\n",
        "-  Introduction to Unsupervised Learning and Problem Statement\n",
        "\n",
        "-  Clustering and its Intuition\n",
        "\n",
        "-  Dunn Index\n",
        "\n",
        "-  K-Means and its Math Formulation\n",
        "\n",
        "-  Lloyd's Algorithm\n",
        "\n",
        "-  K-Means Scratch Implementation\n",
        "\n",
        "-  Determining K  and Silhouette Score\n",
        "\n",
        "-  Amazon's Customer Segmentation with K-Means\n",
        "\n",
        "\n"
      ],
      "metadata": {
        "id": "CSAAIMXQXwwl"
      }
    },
    {
      "cell_type": "markdown",
      "source": [
        "Till now, what we learnt or what we did using Machine Learning was supervised.\n",
        "\n",
        "Meaning, we were given observations $x_{i}$s with their end results/ground truth $y_{i}$s.\n",
        "\n",
        "<img src='https://d2beiqkhq929f0.cloudfront.net/public_assets/assets/000/008/115/original/Screenshot_2022-07-29_at_3.24.57_PM.png?1659088030' height = \"550\" width = \"800\">\n",
        "\n",
        "- For a given dataset $D = {x_i, y_i}$\n",
        "  - If $y_i∈{0,1}$, then we call it a **2-class classification**, or if $y_i$ consists of discrete values then it is a general classification problem.\n",
        "  - If $y_i∈R$ or is continuous, then we call it a **regression** problem.\n",
        "\n",
        "- **In the case of both classification and regression** problems, we are trying to find a function that is used to predict $y_i$, when $x_i's$ are given as the input. Both of these are **supervised learning problems**, where the models are trained with a target variable.\n",
        "\n",
        "Now, consider a dataset of 100000 people which contains information such as location, gender, number of orders, and account balance.\n",
        "\n",
        "If someone wants to divide these 100000 people into bunch of groups based on regular, semi-premium and premium customer, how would one that?\n",
        "\n",
        "**NOTE:** In the dataset, there is no data about somenone being regular/semi-premium/premium customer."
      ],
      "metadata": {
        "id": "CawbeztF4Sfj"
      }
    },
    {
      "cell_type": "markdown",
      "source": [
        "**Q. So, how can one work with the data that is not labelled? Do we need to label the these types of data?**\n",
        "\n",
        "- Recall from the Machine Learning introductory class, that within Machine Learning, there are two approaches.\n",
        "  1. Supervised Learning\n",
        "  2. Unsupervised Learning\n",
        "\n",
        "The basic and the simplest definition of Unsupervised learning is:\n",
        "  - Unsupervised learning uses machine learning algorithms to analyze and cluster unlabeled data sets.\n",
        "  - These algorithms discover hidden patterns in data without the need for human intervention (hence, they are “unsupervised”).\n",
        "\n",
        "  So, from definition, we can relate a bit from the word 'unlabeled'. Let's see how can we use unsupervised methods to solve a similar problem."
      ],
      "metadata": {
        "id": "qb48yjUtc9OT"
      }
    },
    {
      "cell_type": "markdown",
      "source": [
        "##Problem statement:\n",
        "\n",
        "As a data scientist at **Amazon**, you are given a dataset that has details about different customers with features like\n",
        "- 'ID',\n",
        "- 'n_clicks',\n",
        "- 'n_visits', etc,\n",
        "\n",
        "You are asked to segment these customers so that the **Amazon** can provide relevant and similar items to their customers, which will increase their overall sale."
      ],
      "metadata": {
        "id": "WyVu1Xm2pGUp"
      }
    },
    {
      "cell_type": "code",
      "source": [
        "!wget \"https://drive.google.com/uc?export=download&id=1lEccW5Y5_2z00VRtLGOAJOAU6YA9fl6W\" -O E-commerce.csv"
      ],
      "metadata": {
        "id": "1HXxN5Ivq8Wl",
        "colab": {
          "base_uri": "https://localhost:8080/"
        },
        "outputId": "dab3d4ad-2c67-4f4e-e613-a3382c6c7c28"
      },
      "execution_count": null,
      "outputs": [
        {
          "output_type": "stream",
          "name": "stdout",
          "text": [
            "--2023-09-28 08:16:06--  https://drive.google.com/uc?export=download&id=1lEccW5Y5_2z00VRtLGOAJOAU6YA9fl6W\n",
            "Resolving drive.google.com (drive.google.com)... 142.251.163.138, 142.251.163.113, 142.251.163.139, ...\n",
            "Connecting to drive.google.com (drive.google.com)|142.251.163.138|:443... connected.\n",
            "HTTP request sent, awaiting response... 303 See Other\n",
            "Location: https://doc-10-64-docs.googleusercontent.com/docs/securesc/ha0ro937gcuc7l7deffksulhg5h7mbp1/k9t3lajv689r97nb47o1lj74baf2mslp/1695888900000/10306167880925931714/*/1lEccW5Y5_2z00VRtLGOAJOAU6YA9fl6W?e=download&uuid=ec048533-7137-485a-8443-d7d3018c88ba [following]\n",
            "Warning: wildcards not supported in HTTP.\n",
            "--2023-09-28 08:16:07--  https://doc-10-64-docs.googleusercontent.com/docs/securesc/ha0ro937gcuc7l7deffksulhg5h7mbp1/k9t3lajv689r97nb47o1lj74baf2mslp/1695888900000/10306167880925931714/*/1lEccW5Y5_2z00VRtLGOAJOAU6YA9fl6W?e=download&uuid=ec048533-7137-485a-8443-d7d3018c88ba\n",
            "Resolving doc-10-64-docs.googleusercontent.com (doc-10-64-docs.googleusercontent.com)... 172.253.63.132, 2607:f8b0:4004:c08::84\n",
            "Connecting to doc-10-64-docs.googleusercontent.com (doc-10-64-docs.googleusercontent.com)|172.253.63.132|:443... connected.\n",
            "HTTP request sent, awaiting response... 200 OK\n",
            "Length: 139827 (137K) [text/csv]\n",
            "Saving to: ‘E-commerce.csv’\n",
            "\n",
            "E-commerce.csv      100%[===================>] 136.55K  --.-KB/s    in 0.02s   \n",
            "\n",
            "2023-09-28 08:16:07 (7.22 MB/s) - ‘E-commerce.csv’ saved [139827/139827]\n",
            "\n"
          ]
        }
      ]
    },
    {
      "cell_type": "markdown",
      "source": [
        "Let's look at the provided features in our dataset."
      ],
      "metadata": {
        "id": "GxUlqupls8f1"
      }
    },
    {
      "cell_type": "code",
      "source": [
        "import pandas as pd\n",
        "import numpy as np\n",
        "from matplotlib import pyplot as plt\n",
        "import seaborn as sns"
      ],
      "metadata": {
        "id": "0hheAu9TtEFD"
      },
      "execution_count": null,
      "outputs": []
    },
    {
      "cell_type": "code",
      "source": [
        "df = pd.read_csv('./E-commerce.csv')\n",
        "df.head()"
      ],
      "metadata": {
        "colab": {
          "base_uri": "https://localhost:8080/",
          "height": 206
        },
        "id": "tP7uCNm2tKob",
        "outputId": "123951f7-d766-4652-b12a-75fa2d84f48a"
      },
      "execution_count": null,
      "outputs": [
        {
          "output_type": "execute_result",
          "data": {
            "text/plain": [
              "     ID  n_clicks  n_visits  amount_spent  amount_discount  \\\n",
              "0  1476       130        65    213.905831        31.600751   \n",
              "1  1535       543        46    639.223004         5.689175   \n",
              "2  1807       520       102   1157.402763       844.321606   \n",
              "3  1727       702        83   1195.903634       850.041757   \n",
              "4  1324       221        84    180.754616        64.283300   \n",
              "\n",
              "   days_since_registration  profile_information  \n",
              "0                      233                  235  \n",
              "1                      228                  170  \n",
              "2                      247                  409  \n",
              "3                      148                  200  \n",
              "4                      243                  259  "
            ],
            "text/html": [
              "\n",
              "  <div id=\"df-991e5975-a1ec-4be4-b93b-a9c84207ebf7\" class=\"colab-df-container\">\n",
              "    <div>\n",
              "<style scoped>\n",
              "    .dataframe tbody tr th:only-of-type {\n",
              "        vertical-align: middle;\n",
              "    }\n",
              "\n",
              "    .dataframe tbody tr th {\n",
              "        vertical-align: top;\n",
              "    }\n",
              "\n",
              "    .dataframe thead th {\n",
              "        text-align: right;\n",
              "    }\n",
              "</style>\n",
              "<table border=\"1\" class=\"dataframe\">\n",
              "  <thead>\n",
              "    <tr style=\"text-align: right;\">\n",
              "      <th></th>\n",
              "      <th>ID</th>\n",
              "      <th>n_clicks</th>\n",
              "      <th>n_visits</th>\n",
              "      <th>amount_spent</th>\n",
              "      <th>amount_discount</th>\n",
              "      <th>days_since_registration</th>\n",
              "      <th>profile_information</th>\n",
              "    </tr>\n",
              "  </thead>\n",
              "  <tbody>\n",
              "    <tr>\n",
              "      <th>0</th>\n",
              "      <td>1476</td>\n",
              "      <td>130</td>\n",
              "      <td>65</td>\n",
              "      <td>213.905831</td>\n",
              "      <td>31.600751</td>\n",
              "      <td>233</td>\n",
              "      <td>235</td>\n",
              "    </tr>\n",
              "    <tr>\n",
              "      <th>1</th>\n",
              "      <td>1535</td>\n",
              "      <td>543</td>\n",
              "      <td>46</td>\n",
              "      <td>639.223004</td>\n",
              "      <td>5.689175</td>\n",
              "      <td>228</td>\n",
              "      <td>170</td>\n",
              "    </tr>\n",
              "    <tr>\n",
              "      <th>2</th>\n",
              "      <td>1807</td>\n",
              "      <td>520</td>\n",
              "      <td>102</td>\n",
              "      <td>1157.402763</td>\n",
              "      <td>844.321606</td>\n",
              "      <td>247</td>\n",
              "      <td>409</td>\n",
              "    </tr>\n",
              "    <tr>\n",
              "      <th>3</th>\n",
              "      <td>1727</td>\n",
              "      <td>702</td>\n",
              "      <td>83</td>\n",
              "      <td>1195.903634</td>\n",
              "      <td>850.041757</td>\n",
              "      <td>148</td>\n",
              "      <td>200</td>\n",
              "    </tr>\n",
              "    <tr>\n",
              "      <th>4</th>\n",
              "      <td>1324</td>\n",
              "      <td>221</td>\n",
              "      <td>84</td>\n",
              "      <td>180.754616</td>\n",
              "      <td>64.283300</td>\n",
              "      <td>243</td>\n",
              "      <td>259</td>\n",
              "    </tr>\n",
              "  </tbody>\n",
              "</table>\n",
              "</div>\n",
              "    <div class=\"colab-df-buttons\">\n",
              "\n",
              "  <div class=\"colab-df-container\">\n",
              "    <button class=\"colab-df-convert\" onclick=\"convertToInteractive('df-991e5975-a1ec-4be4-b93b-a9c84207ebf7')\"\n",
              "            title=\"Convert this dataframe to an interactive table.\"\n",
              "            style=\"display:none;\">\n",
              "\n",
              "  <svg xmlns=\"http://www.w3.org/2000/svg\" height=\"24px\" viewBox=\"0 -960 960 960\">\n",
              "    <path d=\"M120-120v-720h720v720H120Zm60-500h600v-160H180v160Zm220 220h160v-160H400v160Zm0 220h160v-160H400v160ZM180-400h160v-160H180v160Zm440 0h160v-160H620v160ZM180-180h160v-160H180v160Zm440 0h160v-160H620v160Z\"/>\n",
              "  </svg>\n",
              "    </button>\n",
              "\n",
              "  <style>\n",
              "    .colab-df-container {\n",
              "      display:flex;\n",
              "      gap: 12px;\n",
              "    }\n",
              "\n",
              "    .colab-df-convert {\n",
              "      background-color: #E8F0FE;\n",
              "      border: none;\n",
              "      border-radius: 50%;\n",
              "      cursor: pointer;\n",
              "      display: none;\n",
              "      fill: #1967D2;\n",
              "      height: 32px;\n",
              "      padding: 0 0 0 0;\n",
              "      width: 32px;\n",
              "    }\n",
              "\n",
              "    .colab-df-convert:hover {\n",
              "      background-color: #E2EBFA;\n",
              "      box-shadow: 0px 1px 2px rgba(60, 64, 67, 0.3), 0px 1px 3px 1px rgba(60, 64, 67, 0.15);\n",
              "      fill: #174EA6;\n",
              "    }\n",
              "\n",
              "    .colab-df-buttons div {\n",
              "      margin-bottom: 4px;\n",
              "    }\n",
              "\n",
              "    [theme=dark] .colab-df-convert {\n",
              "      background-color: #3B4455;\n",
              "      fill: #D2E3FC;\n",
              "    }\n",
              "\n",
              "    [theme=dark] .colab-df-convert:hover {\n",
              "      background-color: #434B5C;\n",
              "      box-shadow: 0px 1px 3px 1px rgba(0, 0, 0, 0.15);\n",
              "      filter: drop-shadow(0px 1px 2px rgba(0, 0, 0, 0.3));\n",
              "      fill: #FFFFFF;\n",
              "    }\n",
              "  </style>\n",
              "\n",
              "    <script>\n",
              "      const buttonEl =\n",
              "        document.querySelector('#df-991e5975-a1ec-4be4-b93b-a9c84207ebf7 button.colab-df-convert');\n",
              "      buttonEl.style.display =\n",
              "        google.colab.kernel.accessAllowed ? 'block' : 'none';\n",
              "\n",
              "      async function convertToInteractive(key) {\n",
              "        const element = document.querySelector('#df-991e5975-a1ec-4be4-b93b-a9c84207ebf7');\n",
              "        const dataTable =\n",
              "          await google.colab.kernel.invokeFunction('convertToInteractive',\n",
              "                                                    [key], {});\n",
              "        if (!dataTable) return;\n",
              "\n",
              "        const docLinkHtml = 'Like what you see? Visit the ' +\n",
              "          '<a target=\"_blank\" href=https://colab.research.google.com/notebooks/data_table.ipynb>data table notebook</a>'\n",
              "          + ' to learn more about interactive tables.';\n",
              "        element.innerHTML = '';\n",
              "        dataTable['output_type'] = 'display_data';\n",
              "        await google.colab.output.renderOutput(dataTable, element);\n",
              "        const docLink = document.createElement('div');\n",
              "        docLink.innerHTML = docLinkHtml;\n",
              "        element.appendChild(docLink);\n",
              "      }\n",
              "    </script>\n",
              "  </div>\n",
              "\n",
              "\n",
              "<div id=\"df-ee609394-1da9-4e60-a69f-81790b02dc45\">\n",
              "  <button class=\"colab-df-quickchart\" onclick=\"quickchart('df-ee609394-1da9-4e60-a69f-81790b02dc45')\"\n",
              "            title=\"Suggest charts.\"\n",
              "            style=\"display:none;\">\n",
              "\n",
              "<svg xmlns=\"http://www.w3.org/2000/svg\" height=\"24px\"viewBox=\"0 0 24 24\"\n",
              "     width=\"24px\">\n",
              "    <g>\n",
              "        <path d=\"M19 3H5c-1.1 0-2 .9-2 2v14c0 1.1.9 2 2 2h14c1.1 0 2-.9 2-2V5c0-1.1-.9-2-2-2zM9 17H7v-7h2v7zm4 0h-2V7h2v10zm4 0h-2v-4h2v4z\"/>\n",
              "    </g>\n",
              "</svg>\n",
              "  </button>\n",
              "\n",
              "<style>\n",
              "  .colab-df-quickchart {\n",
              "      --bg-color: #E8F0FE;\n",
              "      --fill-color: #1967D2;\n",
              "      --hover-bg-color: #E2EBFA;\n",
              "      --hover-fill-color: #174EA6;\n",
              "      --disabled-fill-color: #AAA;\n",
              "      --disabled-bg-color: #DDD;\n",
              "  }\n",
              "\n",
              "  [theme=dark] .colab-df-quickchart {\n",
              "      --bg-color: #3B4455;\n",
              "      --fill-color: #D2E3FC;\n",
              "      --hover-bg-color: #434B5C;\n",
              "      --hover-fill-color: #FFFFFF;\n",
              "      --disabled-bg-color: #3B4455;\n",
              "      --disabled-fill-color: #666;\n",
              "  }\n",
              "\n",
              "  .colab-df-quickchart {\n",
              "    background-color: var(--bg-color);\n",
              "    border: none;\n",
              "    border-radius: 50%;\n",
              "    cursor: pointer;\n",
              "    display: none;\n",
              "    fill: var(--fill-color);\n",
              "    height: 32px;\n",
              "    padding: 0;\n",
              "    width: 32px;\n",
              "  }\n",
              "\n",
              "  .colab-df-quickchart:hover {\n",
              "    background-color: var(--hover-bg-color);\n",
              "    box-shadow: 0 1px 2px rgba(60, 64, 67, 0.3), 0 1px 3px 1px rgba(60, 64, 67, 0.15);\n",
              "    fill: var(--button-hover-fill-color);\n",
              "  }\n",
              "\n",
              "  .colab-df-quickchart-complete:disabled,\n",
              "  .colab-df-quickchart-complete:disabled:hover {\n",
              "    background-color: var(--disabled-bg-color);\n",
              "    fill: var(--disabled-fill-color);\n",
              "    box-shadow: none;\n",
              "  }\n",
              "\n",
              "  .colab-df-spinner {\n",
              "    border: 2px solid var(--fill-color);\n",
              "    border-color: transparent;\n",
              "    border-bottom-color: var(--fill-color);\n",
              "    animation:\n",
              "      spin 1s steps(1) infinite;\n",
              "  }\n",
              "\n",
              "  @keyframes spin {\n",
              "    0% {\n",
              "      border-color: transparent;\n",
              "      border-bottom-color: var(--fill-color);\n",
              "      border-left-color: var(--fill-color);\n",
              "    }\n",
              "    20% {\n",
              "      border-color: transparent;\n",
              "      border-left-color: var(--fill-color);\n",
              "      border-top-color: var(--fill-color);\n",
              "    }\n",
              "    30% {\n",
              "      border-color: transparent;\n",
              "      border-left-color: var(--fill-color);\n",
              "      border-top-color: var(--fill-color);\n",
              "      border-right-color: var(--fill-color);\n",
              "    }\n",
              "    40% {\n",
              "      border-color: transparent;\n",
              "      border-right-color: var(--fill-color);\n",
              "      border-top-color: var(--fill-color);\n",
              "    }\n",
              "    60% {\n",
              "      border-color: transparent;\n",
              "      border-right-color: var(--fill-color);\n",
              "    }\n",
              "    80% {\n",
              "      border-color: transparent;\n",
              "      border-right-color: var(--fill-color);\n",
              "      border-bottom-color: var(--fill-color);\n",
              "    }\n",
              "    90% {\n",
              "      border-color: transparent;\n",
              "      border-bottom-color: var(--fill-color);\n",
              "    }\n",
              "  }\n",
              "</style>\n",
              "\n",
              "  <script>\n",
              "    async function quickchart(key) {\n",
              "      const quickchartButtonEl =\n",
              "        document.querySelector('#' + key + ' button');\n",
              "      quickchartButtonEl.disabled = true;  // To prevent multiple clicks.\n",
              "      quickchartButtonEl.classList.add('colab-df-spinner');\n",
              "      try {\n",
              "        const charts = await google.colab.kernel.invokeFunction(\n",
              "            'suggestCharts', [key], {});\n",
              "      } catch (error) {\n",
              "        console.error('Error during call to suggestCharts:', error);\n",
              "      }\n",
              "      quickchartButtonEl.classList.remove('colab-df-spinner');\n",
              "      quickchartButtonEl.classList.add('colab-df-quickchart-complete');\n",
              "    }\n",
              "    (() => {\n",
              "      let quickchartButtonEl =\n",
              "        document.querySelector('#df-ee609394-1da9-4e60-a69f-81790b02dc45 button');\n",
              "      quickchartButtonEl.style.display =\n",
              "        google.colab.kernel.accessAllowed ? 'block' : 'none';\n",
              "    })();\n",
              "  </script>\n",
              "</div>\n",
              "    </div>\n",
              "  </div>\n"
            ]
          },
          "metadata": {},
          "execution_count": 3
        }
      ]
    },
    {
      "cell_type": "markdown",
      "source": [
        "Let's see what all do we have for the given problem statement:\n",
        "\n",
        "- First thing to note is that there are no labels for the records in the dataset.\n",
        "\n",
        "- What this means? We cannot use Supervised Learning methods to solve our problem, and we would have to use Unsupervised methods.\n",
        "\n",
        "\n",
        "Recall the introductory class of machine learning where we saw that there is a type of unsupervised learning technique called clustering.\n",
        "\n",
        "**Q. Do you think clustering can be used here?**\n",
        "\n",
        "- Yes, here we are asked to group customers together who are similar."
      ],
      "metadata": {
        "id": "yfn7vJilsSGV"
      }
    },
    {
      "cell_type": "markdown",
      "source": [
        "##What is clustering?\n",
        "\n",
        "- At simple as it can be, clustering is a task of grouping similar objects or data-points.\n",
        "\n",
        "- **For example**:\n",
        "  - A professional cricket team can collect information like **runs_per_game**, **wickets_per_game**, **catches_per_game**, etc and then use these features to cluster similar players.\n",
        "\n",
        "<img src='https://d2beiqkhq929f0.cloudfront.net/public_assets/assets/000/010/002/original/Screenshot_2022-09-08_at_10.49.09_AM.png?1662613855' height = '500' width = '800'>\n",
        "\n",
        "In the plot you can observe that we have groups or clusters of similar kind of players like batsman, bowlers, allrounders, etc."
      ],
      "metadata": {
        "id": "AAg5BRotjSqW"
      }
    },
    {
      "cell_type": "markdown",
      "source": [
        "## Intuition of Clustering:\n",
        "\n",
        "- Intuitively, Clustering is the task of dividing the population or data points into a number of groups such that data points which are similar are closer and in the same group than the dissimilar points.\n",
        "\n",
        "- Each group in clustering is called a **cluster**.\n",
        " - The points in the same cluster are more closer and similar to each other.\n",
        " - The points in different clusters are more distant and distinct from each other.\n",
        "\n",
        "- So, the task in clustering is **grouping the points of similar kind** based on **our definition of similarity**.\n",
        "\n",
        "<img src='https://d2beiqkhq929f0.cloudfront.net/public_assets/assets/000/008/120/original/Screenshot_2022-07-29_at_3.43.55_PM.png?1659089170' height = '500' width = '800'>\n",
        "\n",
        "<br>\n",
        "\n",
        "**Q. But what is the definition of similarity? How to decide which points are similar?**\n",
        "\n",
        "- Similarity in clustering can be defined as the closeness of data points with each other\n",
        "\n",
        "- For example, customers who spend almost equal amount of money on shopping on amazon can be similar.\n",
        "\n",
        "- Similarity can be measured using different distance metrics.\n",
        "\n",
        "> **Q. How can we ensure clustering is good or bad?**\n",
        "\n",
        "- Since **clustering doesn’t have the class labels or the ground truth**, it is hard to measure if a clustering is good or bad in a very rigorous and critical way.\n",
        "\n",
        "- It all depends on the problem and the context we are working in, i.e., the **Business Case**\n",
        "\n",
        "<img src='https://d2beiqkhq929f0.cloudfront.net/public_assets/assets/000/008/121/original/Screenshot_2022-07-29_at_3.45.32_PM.png?1659089264' height = '500' width = '800'>\n",
        "\n",
        "**Clustering, just like classification, is very dependent on the features used.**\n",
        "\n",
        "- The **clustering output can sometimes help coming up with new features**.\n",
        "\n",
        "- If we get a **new datapoint** in future, for example, **a new customer at Amazon**, we can identify which cluster or group does this new datapoint or this new customer belongs to.\n",
        "\n",
        "<img src='https://d2beiqkhq929f0.cloudfront.net/public_assets/assets/000/008/122/original/Screenshot_2022-07-29_at_3.46.25_PM.png?1659089315' width=\"500\">\n",
        "\n",
        "---\n"
      ],
      "metadata": {
        "id": "mH3aK-0vb6Lw"
      }
    },
    {
      "cell_type": "markdown",
      "source": [
        "**Now that we have seen the intuition of clustering let's look at few terms and concepts we should be aware about during clustering on any dataset.**"
      ],
      "metadata": {
        "id": "gRKwJELM3f9P"
      }
    },
    {
      "cell_type": "markdown",
      "source": [
        "###Intra-cluster and Inter-cluster Distance\n",
        "\n",
        "- Imagine two clusters $C_{1}$ and $C_{2}$ based on some feature $f_{1}$ and $f_{2}$.\n",
        "\n",
        "- Inter-cluster distance represents the distance between two clusters $C_{1}$ and $C_{2}$.\n",
        "\n",
        "- There are many ways to calculate the distance between two clusters. Such as:\n",
        "  - Distance between average values of the clusters.\n",
        "  - Distance between closest points from the clusters (min distance)\n",
        "  - Distance between farthest points from the clusters (max distance)\n",
        "\n",
        "- Intra-cluster distance represents the distance within a certain cluster. Basically , it measures how tightly the points of a clusters are packed.\n",
        "\n",
        "- Again there are more than one way to measure intra-cluster distance:\n",
        "  - Average distance between the points of a cluster.\n",
        "  - Distance between farthest points of a cluster\n",
        "\n",
        "**Q. How to determine which approach to use to calculate these distances?**\n",
        "- There is no right or wrong approach. All these ideas are valid and which one to choose depends on the use-case and domain that we're working on.\n",
        "\n",
        "<img src='https://d2beiqkhq929f0.cloudfront.net/public_assets/assets/000/008/124/original/Screenshot_2022-07-29_at_3.49.42_PM.png?1659089519' height = 500 width = 800>\n",
        "\n",
        "<img src='https://d2beiqkhq929f0.cloudfront.net/public_assets/assets/000/010/017/original/Screenshot_2022-09-08_at_10.03.24_PM.png?1662654263' width=\"500\">\n"
      ],
      "metadata": {
        "id": "kb__cEbE4z9M"
      }
    },
    {
      "cell_type": "markdown",
      "source": [
        "**Q. What should be the ideal values of inter and intra cluster distances of a clustering?**\n",
        "\n",
        "- Ideally, **intra-cluster** distance should be **low**\n",
        "- If the intra cluster distance will be low, the points in the same clusters will be more similar\n",
        "\n",
        "- And, **inter-cluster** distance should be **high**.\n",
        "- Incase of higher inter cluster distances, the points in different clusters will be less similar."
      ],
      "metadata": {
        "id": "YMeb0bQ-3d4q"
      }
    },
    {
      "cell_type": "markdown",
      "source": [
        "#### Q. How can we calculate the distances between the points and clusters?\n",
        "\n",
        "Recall from the pre-read, we can use the following distances for calculating the similarity:-\n",
        "- **Euclidean distance**\n",
        " - It is preferred in low dimensional space.\n",
        "- **Manhattan distance**\n",
        " - It is used in low-medium dimensional space\n",
        "- **Cosine similarity**\n",
        " - It is used in high-dimensional space.\n",
        "\n",
        "Practically speaking distance-metric used is hyperparameter and is **application based.**\n",
        "\n",
        "\n",
        "<img src='https://d2beiqkhq929f0.cloudfront.net/public_assets/assets/000/008/299/original/Screenshot_2022-08-02_at_3.34.46_PM.png?1659434213' height = '500' width = '800'>"
      ],
      "metadata": {
        "id": "NGUfTFgX_5FB"
      }
    },
    {
      "cell_type": "markdown",
      "source": [
        "**Q. If only one of the inter-cluster distance or intra-cluster distance is given, can you really judge how good or bad the formed clusters are?**\n",
        "\n",
        "Only having one of inter or intra cluster distance does not work because:\n",
        "\n",
        "- It is not necessay that if inter cluster distance is very high, intra-cluster will be low\n",
        "\n",
        "- Similarly just having a smaller intra cluster distance also does not guarantee good clustering results.\n",
        "\n",
        "\n",
        "## Q. Then what metric can we use to evaluate our Clustering?\n",
        "\n",
        "- Ideally, the resultant clusters should make **business sense**\n",
        "\n",
        "- Say that you are working for a shirt manufacturing company, then you should have 3 clusters: small, medium, large.\n",
        "\n",
        "- It does not make sense to have 100 clusters!\n",
        "\n",
        "- To evaluate the results of clustering, we can also use the same distance metrics we used for supervised learning problems, like Euclidean Distance,etc.\n",
        "\n",
        "\n",
        "<img src='https://d2beiqkhq929f0.cloudfront.net/public_assets/assets/000/008/123/original/Screenshot_2022-07-29_at_3.47.54_PM.png?1659089419' height = 500 width = 800>\n",
        "\n",
        "Let's look at one more metric which includes inter and intra cluster distance to evaluate clustering."
      ],
      "metadata": {
        "id": "4oVXDnGM11x1"
      }
    },
    {
      "cell_type": "markdown",
      "source": [
        "### **Dunn Index**\n",
        "\n",
        "- It is a metric for evaluating clustering algorithms\n",
        "- The objective of Dunn index is to identify clusters that are:\n",
        " - compact with a small variance between members of the cluster\n",
        " - and well separated.\n",
        "\n",
        "**Q. How can we calculate Dunn Index?**\n",
        "- It is denoted by **‘D’** and is given as:\n",
        "\n",
        "$D = \\frac{min_{i,j} distance(i,j)}{max_k distance^{'}(k)}$\n",
        "\n",
        "where;\n",
        "- $distance(i,j)$ → distance between the farthest points of the clusters $C_i$ and $C_j$ → **Inter-Cluster distance**\n",
        "\n",
        "- ${distance^{'}(k)}$ → distance between the farthest points within the $k^{th}$ clusters **Intra-Cluster distance**\n",
        "\n",
        "<img src='https://d2beiqkhq929f0.cloudfront.net/public_assets/assets/000/008/125/original/Screenshot_2022-07-29_at_3.53.47_PM.png?1659089763' height = '500' width = '800'>\n",
        "\n",
        "\n",
        "<img src='https://d2beiqkhq929f0.cloudfront.net/public_assets/assets/000/008/126/original/Screenshot_2022-07-29_at_3.56.07_PM.png?1659089899' height = '500' width = '800'>\n",
        "\n"
      ],
      "metadata": {
        "id": "6UsbT2JMe3Fd"
      }
    },
    {
      "cell_type": "markdown",
      "source": [
        "> **Q. How can we interpret the values of Dunn index?**\n",
        "\n",
        "- If $Dunn-index$ is high, it implies that clusters are well separated and the points in the same cluster are intact.\n",
        "- For every pair of points from $C_i$ and $C_j$, we have to compute **$distance(i,j)$** for getting the inter cluster distance.\n",
        "- Similarly for calculating the **$distance'(k)$** we will have to iterate through each pair of points within $k^{th}$ cluster\n",
        "\n",
        "<img src='https://d2beiqkhq929f0.cloudfront.net/public_assets/assets/000/008/127/original/Screenshot_2022-07-29_at_3.57.44_PM.png?1659089997' height = '500' width = '800'>\n"
      ],
      "metadata": {
        "id": "ilQrgPUmf3cR"
      }
    },
    {
      "cell_type": "markdown",
      "source": [
        "###Quiz-2:\n",
        "```\n",
        "We have two clustering algorithms, and if we have to choose one of them, the algorithms chosen should have:\n",
        "a. higher dunn-index\n",
        "b. lower dunn-index\n",
        "```\n",
        "Answer. a"
      ],
      "metadata": {
        "id": "0qazx800EPho"
      }
    },
    {
      "cell_type": "markdown",
      "source": [
        "- **For ideal clustering, the value of the Dunn Index should be high**\n",
        "\n",
        "- For this, the distances between the points in the same cluster should be lower, and the distance between the different clusters should be higher.\n",
        "\n",
        "<img src='https://d2beiqkhq929f0.cloudfront.net/public_assets/assets/000/008/128/original/Screenshot_2022-07-29_at_4.01.33_PM.png?1659090224' height = '500' width = '800'>\n",
        "\n",
        "- If we have two Clustering algorithms and we need to decided which one is performing better, we can compare the Dunn Index of the two algorithms and pick the one with higher Dunn Index.\n",
        "\n",
        "<img src='https://d2beiqkhq929f0.cloudfront.net/public_assets/assets/000/008/129/original/Screenshot_2022-07-29_at_4.02.25_PM.png?1659090275' height = '500' width = '800'>"
      ],
      "metadata": {
        "id": "fY5vwn3sEKW7"
      }
    },
    {
      "cell_type": "markdown",
      "source": [
        "**But why we chose maximum intra-cluster distance and minimum inter-cluster distance to use in Dunn-index?**\n",
        "\n",
        "- max intra-cluster and min inter-cluster distances are chosen in order to handle the extreme worst case scenarios.\n",
        "\n",
        "Consider the following two cases, which do you think represent better clustering? Case1 or Case2.\n",
        "\n",
        "<img src='https://d2beiqkhq929f0.cloudfront.net/public_assets/assets/000/008/227/original/Screenshot_2022-08-01_at_1.58.35_PM.png?1659342098' height = '500' width = '800'>\n",
        "\n",
        "- If we'd have chosen max inter-cluster distance,\n",
        " - metric of case1 will be higher but it shouldn't be the case as it's not the ideal situation,\n",
        " - here the 4th cluster in case1 is just an outlier and its extremely affecting the metric due to which we use minimum of inter-cluster distances.\n",
        "\n",
        " - incase of max inter-cluster, it would always choose the clustering algorithm where one cluster is far from the other clusters and the remaining clusters are very close to each other, which is not correct.\n"
      ],
      "metadata": {
        "id": "4oOPVotvhQIq"
      }
    },
    {
      "cell_type": "markdown",
      "source": [
        "**Is there any range of Dunn-index, how to say if a value of Dunn-index is good or bad?**\n",
        "- There is no such good or bad range of values for Dunn-index.\n",
        "- For an instance say your min inter-cluster distance is 10 times the max intra-cluster distance, it will be a good clustering but its just a comparative analysis.\n",
        "- For analysing models using Dunn-index:\n",
        " - we can find the values of the metric for a random clustering algorithm and      \n",
        " - then compare it with the values of metric for different clustering algorithms to find out whether the algorithm is performing better or worse than a random model.\n",
        "---"
      ],
      "metadata": {
        "id": "_v4jzwyv27Bx"
      }
    },
    {
      "cell_type": "markdown",
      "source": [
        "**An example to show the use-case of clustering**"
      ],
      "metadata": {
        "id": "le3xzrPGLI1u"
      }
    },
    {
      "cell_type": "markdown",
      "source": [
        "##Smart labeling\n",
        "\n",
        "**Say you are given 10 million images of wearing apparel and you have to label each of them.**\n",
        "\n",
        "For each image you are given a d-dimension vector using some deep learning algorithm.\n",
        "\n",
        "> **Q. Will it be feasible to do it manually?**\n",
        "\n",
        "No, but we can use clustering here.\n",
        "\n",
        "**Step-1**. We can firstly find clusters from the whole dataset. Say here we find some 100-odd clusters.\n",
        "\n",
        "**Step-2**. Then we can manually label the centroid points first. Say we label a centroid as 'men's jeans'.\n",
        "\n",
        "**Step-3**. Next we can label the points which are significantly closer to the centroid of the cluster with the same label as that of centroid. i.e. The points which are closer to the centroid labelled 'men's jeans' will also get labelled as 'men's jeans'.\n",
        "\n",
        "**Step-4**. This way we can get some part of the data labelled if not all of it.\n",
        "\n",
        "\n",
        "After this classification techniques can be used to label the remaining data. This won't give perfect labels but can provide reasonably good labels.\n",
        "\n",
        "This is one of the best applications of clustering. Google also uses this while speech to text conversion where it takes snippets of audio samples and look at the similar snippets and label only few of available snippets.\n",
        "\n",
        "This will get discussed in depth further in the course.\n",
        "\n",
        "Now that we've understood basic intuition of clustering, let's dive a little deep and understand an algorithm of clustering- K-Means.\n",
        "\n",
        "---"
      ],
      "metadata": {
        "id": "pblJziHT9ge-"
      }
    },
    {
      "cell_type": "markdown",
      "source": [
        "## K-Means Clustering introduction\n",
        "\n",
        "- K-Means clustering is one of the most popular and the simplest clustering\n",
        "algorithms. The value **'K' in the K-means algorithm denotes the number of\n",
        "clusters**.\n",
        "\n",
        "<img src='https://d2beiqkhq929f0.cloudfront.net/public_assets/assets/000/008/130/original/Screenshot_2022-07-29_at_4.04.01_PM.png?1659090377' height = '500' width = '800'>\n",
        "\n",
        "<img src='https://d2beiqkhq929f0.cloudfront.net/public_assets/assets/000/008/131/original/Screenshot_2022-07-29_at_4.05.12_PM.png?1659090450' height = '500' width = '800'>\n",
        "\n"
      ],
      "metadata": {
        "id": "NyYu6e2EhNYr"
      }
    },
    {
      "cell_type": "markdown",
      "source": [
        "- Consider a 2-Dimensional dataset $D$ with number\n",
        "of clusters (K) = 3. So the number of centroids should also be equal to 3.\n",
        "\n",
        "- A centroid of a cluster is the middle point of the cluster which can be calculated using average of points.\n",
        "\n",
        "- Let 'S1', 'S2', 'S3' be different sets of elements of different clusters, and ‘C1’, ‘C2’ and ‘C3’ be their respective cluster centroids.\n",
        "\n",
        "  $S_1 ∪ S_2 ∪ S_3 = D$\n",
        "\n",
        "  $S_1 ∩ S_2 ∩ S_3 = Φ$\n",
        "\n",
        "  $S_1 ∩ S_2 = Φ, S_1 ∩ S_3 = Φ, S_2 ∩ S_3 = Φ$\n",
        "\n",
        "\n",
        "\n",
        "- **Q. What does this indicate?**\n",
        "\n",
        "  - This indicates the fact that all the data points belong to one or the other set and no data point exists in more than one set or cluster.\n",
        "\n",
        "<img src='https://d2beiqkhq929f0.cloudfront.net/public_assets/assets/000/008/132/original/Screenshot_2022-07-29_at_4.07.21_PM.png?1659090573' height = '500' width = '800'>\n",
        "\n",
        "Thus,\n",
        "\n",
        "Number of Sets = K (i.e., $S_1, S_2, S_3, ….., S_k$), and\n",
        "\n",
        "Number of centroids = K (i.e., $C_1, C_2, C_3, ….., C_k$).\n",
        "\n",
        "\n",
        "Now, consider a set of points $S_i$ of size $|S_i|$. We can find the centroid of this set by summing all the points in the set (x_j) and averaging them by the size of the set ($|S_i|$).\n",
        "\n",
        "  - $C_i$ = $\\Large\\frac{1}{|S_i|} ∑_{x_j ∈ S_i} x_j$"
      ],
      "metadata": {
        "id": "dO8sUQLoh9Eg"
      }
    },
    {
      "cell_type": "markdown",
      "source": [
        "Now, K-means clustering is a **centroid-based** clustering scheme.\n",
        "\n",
        "- Every point is assigned to the cluster closest to it.\n",
        "\n",
        "- The core idea of K-means clustering is to find 'K' centroids and each point is assigned to the cluster whose centroid is nearest to it.\n",
        "\n",
        "- The biggest challenge is to find these 'K' centroids.\n",
        "\n",
        "- There are algorithms to find out these 'K' centroids and one of the most commonly used algorithms is **Lloyd's algorithm**.\n",
        "\n",
        "<img src='https://d2beiqkhq929f0.cloudfront.net/public_assets/assets/000/008/133/original/Screenshot_2022-07-29_at_4.08.31_PM.png?1659090646' height = '500' width = '800'>\n",
        "\n",
        "Now that we've seen  a high level approach, let's now move to mathematical formulation of K-Means."
      ],
      "metadata": {
        "id": "6_2WzDPks9be"
      }
    },
    {
      "cell_type": "markdown",
      "source": [
        "## K-Means: Mathematical Formulation: Objective Function\n",
        "\n",
        "**Q. What do we optimize in K-Means? What is our end-goal?**\n",
        "\n",
        "- Given a dataset $D$ where each point $x_i ∈ R^d$, we want to find clusters '$S_1$', '$S_2$’, '$S_3$', …., '$S_k$' and their corresponding centroids '$C_1$', '$C_2$', '$C_3$', …., '$C_k$' such that;\n",
        "  1. the inter-cluster distance is maximum\n",
        "  2. the intra-cluster distance is minimum\n",
        "\n",
        "\n",
        "<img src='https://d2beiqkhq929f0.cloudfront.net/public_assets/assets/000/008/134/original/Screenshot_2022-07-29_at_4.10.14_PM.png?1659090747' height = '500' width = '800'>\n",
        "\n",
        "\n",
        "**Since we're trying to optimization problem, Can we use Gradient Descent to converge the K-Means Clustering Algorithm?**\n",
        "\n",
        "- In clustering, clusters are always represented using discrete variables.\n",
        "\n",
        "- When we apply Gradient Descent the variables can become fraction which shouldn't be the case as it should only be discrete values.\n",
        "\n",
        "- The values cannot be a fraction as a point can either belong to a set or not, so GD does not work. And, which is why Gradient Descent fails here.\n"
      ],
      "metadata": {
        "id": "1g-IUh7fihkT"
      }
    },
    {
      "cell_type": "markdown",
      "source": [
        "\n",
        "**Q. What is the problem with value of clustering variables being fractional?**\n",
        "\n",
        "- If variable is fractional,\n",
        " - it would mean that the a particular point is partially belonging to ith cluster as well as some other cluster as well\n",
        "\n",
        " - This kind of clustering is called **Fuzzy-clustering**/**Soft-clustering**.\n",
        "\n",
        "- To solve this optimization problem with the integer constraints we will have to use the integer programming which will have NP-hard or exponential complexity.\n",
        "\n",
        "- This optimization problem is very hard to solve due to which it's not used in real life applications.\n",
        "\n",
        "- In such cases where the complexity of problem becomes very large, we optimize with the approximation algorithms and find out nearest solutions to the problems.\n",
        "\n",
        "One such approximation algorithm is **Lloyd’s algorithm**. It is a very simple and a good approximation algorithm.\n",
        "\n",
        "- Approximation algorithms do not guarantee best solutions but they work well in practice.\n",
        "\n",
        "So, let's see how this works. Coming up is Llyod's Algorithm.\n",
        "\n",
        "<img src='https://d2beiqkhq929f0.cloudfront.net/public_assets/assets/000/008/140/original/Screenshot_2022-07-29_at_4.15.24_PM.png?1659091061' height = '500' width = '800'>\n",
        "\n",
        "---\n",
        "\n"
      ],
      "metadata": {
        "id": "IGDZhWdf8yc-"
      }
    },
    {
      "cell_type": "markdown",
      "source": [
        "## K-Means Algorithm (Lloyd’s Algorithm)\n",
        "\n",
        "Lloyd' algorithm is an approximation method we use for k-means clustering, which involve 4 major steps:"
      ],
      "metadata": {
        "id": "MrqgOgaKkwl6"
      }
    },
    {
      "cell_type": "markdown",
      "source": [
        "\n",
        "**1. Initialization**\n",
        "\n",
        "From the given dataset '**D**', we pick '**K**' points randomly, and assume them to be the initial centroids. Let us denote them as $C_1, C_2, C_3, …, C_k$.\n",
        "\n",
        "<img src='https://d2beiqkhq929f0.cloudfront.net/public_assets/assets/000/008/141/original/Screenshot_2022-07-29_at_4.18.21_PM.png?1659091230' height = '500' width = '800'>"
      ],
      "metadata": {
        "id": "wCg90rtJkKJ_"
      }
    },
    {
      "cell_type": "markdown",
      "source": [
        "\n",
        "**2. Assignment**\n",
        "\n",
        "For each point '$x_i$' in the dataset '**D**', we have to compute the distance of each of the above 'K' centroids, and pick the nearest centroid. Let us denote this nearest centroid as '$C_j$'.\n",
        "\n",
        "Add the point '$x_i$' to the set '$S_j$'(which is associated with the centroid '$C_j$').\n",
        "\n",
        "<img src='https://d2beiqkhq929f0.cloudfront.net/public_assets/assets/000/008/142/original/Screenshot_2022-07-29_at_4.19.16_PM.png?1659091285' height = '500' width = '800'>\n"
      ],
      "metadata": {
        "id": "8dXSUaQWjzr_"
      }
    },
    {
      "cell_type": "markdown",
      "source": [
        "**3. Recompute Centroid (Update Stage)**\n",
        "\n",
        "- Now  that we've grouped all the datapoints to each clusters, we update the centroid for each and every clusters.\n",
        "\n",
        "\n",
        "- We recompute/update '$C_j$' as follows:\n",
        "\n",
        "    - $C_j = (1/|S_j|) * Σ_{x_i∈S_j} x_i$\n",
        "\n",
        "<img src='https://d2beiqkhq929f0.cloudfront.net/public_assets/assets/000/008/143/original/Screenshot_2022-07-29_at_4.20.53_PM.png?1659091397' height = '500' width = '800'>\n"
      ],
      "metadata": {
        "id": "8cudWwfVlht_"
      }
    },
    {
      "cell_type": "markdown",
      "source": [
        "**4. Repeat the assignment and update steps until convergence**.\n",
        "\n",
        "**Q. How do we know if algorithm has converged?**\n",
        "\n",
        "- Here convergence is the stage where the centroids do not change much.\n",
        "\n",
        "- For example, after second iteration, if the centroids are $\\{C_1, C_2, C_3, …., C_k\\}$ and 3rd iteration, if the updated centroids are $C_1$', $C_2$', $C_3$', ….., $C_k$', we say the algorithm has converged if the distance between old centroids and updated centroids is very low.\n",
        "\n",
        "\n",
        "<img src='https://d2beiqkhq929f0.cloudfront.net/public_assets/assets/000/008/144/original/Screenshot_2022-07-29_at_4.22.29_PM.png?1659091481' height = '500' width = '800'>\n",
        "\n",
        "\n",
        "- After convergence, we get centroids as $C_1, C_2, C_3, …., C_k$ and the final sets/clusters as $S_1, S_2, S_3, …., S_k$.\n"
      ],
      "metadata": {
        "id": "AJAotGDumMcx"
      }
    },
    {
      "cell_type": "markdown",
      "source": [
        "Now, let's see how to implement K-Means from scratch."
      ],
      "metadata": {
        "id": "EGAiJniGA0pi"
      }
    }
  ]
}